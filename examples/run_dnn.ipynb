{
 "cells": [
  {
   "cell_type": "markdown",
   "metadata": {},
   "source": [
    "### Prepare Data\n",
    "Install pytorch and torchvision:\n",
    "\n",
    "```bash\n",
    "conda install pytorch torchvision -c pytorch\n",
    "```\n",
    "Download cifar10 data and save to a simple binary file:"
   ]
  },
  {
   "cell_type": "code",
   "execution_count": null,
   "metadata": {},
   "outputs": [],
   "source": [
    "import torchvision\n",
    "import os, pickle\n",
    "import numpy as np\n",
    "\n",
    "def create_dataset():\n",
    "    trainset = torchvision.datasets.CIFAR10(root='./data', download=True)\n",
    "    fname = \"./data/cifar-10-batches-py/data_batch_1\"\n",
    "    fo = open(fname, 'rb')\n",
    "    entry = pickle.load(fo, encoding='latin1')\n",
    "    train_data = entry['data']\n",
    "    fo.close()\n",
    "    train_data.tofile(\"train_data.dat\")\n",
    "\n",
    "create_dataset()"
   ]
  },
  {
   "cell_type": "markdown",
   "metadata": {},
   "source": [
    "Now we load and transform the input data using HPAT:"
   ]
  },
  {
   "cell_type": "code",
   "execution_count": null,
   "metadata": {},
   "outputs": [],
   "source": [
    "@hpat.jit(locals={'images:return': 'distributed'})\n",
    "def read_data():\n",
    "    file_name = \"train_data.dat\"\n",
    "    blob = np.fromfile(file_name, np.uint8)\n",
    "    # reshape to images\n",
    "    n_channels = 3\n",
    "    height = 32\n",
    "    width = 32\n",
    "    n_images = len(blob)//(n_channels*height*width)\n",
    "    data = blob.reshape(n_images, height, width, n_channels)\n",
    "\n",
    "    # resize\n",
    "    resize_len = 224\n",
    "    images = np.empty((n_images, resize_len, resize_len, n_channels), np.uint8)\n",
    "    for i in prange(n_images):\n",
    "        images[i] = cv2.resize(data[i], (resize_len, resize_len))\n",
    "\n",
    "    # convert from [0,255] to [0.0,1.0]\n",
    "    # normalize\n",
    "    u2f_ratio = np.float32(255.0)\n",
    "    c0_m = np.float32(0.485)\n",
    "    c1_m = np.float32(0.456)\n",
    "    c2_m = np.float32(0.406)\n",
    "    c0_std = np.float32(0.229)\n",
    "    c1_std = np.float32(0.224)\n",
    "    c2_std = np.float32(0.225)\n",
    "    for i in prange(n_images):\n",
    "        images[i,:,:,0] = (images[i,:,:,0]/ u2f_ratio - c0_m) / c0_std\n",
    "        images[i,:,:,1] = (images[i,:,:,1]/ u2f_ratio - c1_m) / c1_std\n",
    "        images[i,:,:,2] = (images[i,:,:,2]/ u2f_ratio - c2_m) / c2_std\n",
    "\n",
    "    # convert to CHW\n",
    "    images = images.transpose(0, 3, 1, 2)\n",
    "    return images\n",
    "\n",
    "t1 = time.time()\n",
    "imgs = read_data()\n",
    "print(\"data read time\", time.time()-t1)"
   ]
  },
  {
   "cell_type": "markdown",
   "metadata": {},
   "source": [
    "The `'V:return':'distributed'` annotation indicates that chunks of array `V` are returned in distributed fashion, instead of replicating it which is the default behavior for return. The I/O function `np.fromfile`, as well as all operations on images are parallelized by HPAT.\n",
    " \n",
    "Let's run a simple resnet18 DNN using pretrained weights as an example. We run only on 100 images for faster demonstration."
   ]
  },
  {
   "cell_type": "code",
   "execution_count": null,
   "metadata": {},
   "outputs": [],
   "source": [
    "from torch import Tensor\n",
    "from torch.autograd import Variable\n",
    "model = torchvision.models.resnet18(True)\n",
    "t1 = time.time()\n",
    "res = model(Variable(Tensor(imgs[:100])))\n",
    "print(\"dnn time\", time.time()-t1)"
   ]
  },
  {
   "cell_type": "markdown",
   "metadata": {},
   "source": [
    "Now we use HPAT to get some statistics on the results."
   ]
  },
  {
   "cell_type": "code",
   "execution_count": null,
   "metadata": {},
   "outputs": [],
   "source": [
    "# get top class stats\n",
    "vals, inds = res.max(1)\n",
    "import pandas as pd\n",
    "\n",
    "@hpat.jit(locals={'vals:input': 'distributed', 'inds:input': 'distributed'})\n",
    "def get_stats(vals, inds):\n",
    "    df = pd.DataFrame({'vals': vals, 'classes': inds})\n",
    "    stat = df.describe()\n",
    "    print(stat)\n",
    "    TRUCK = 717\n",
    "    print((inds == TRUCK).sum())\n",
    "\n",
    "get_stats(vals.data.numpy(), inds.data.numpy())"
   ]
  },
  {
   "cell_type": "markdown",
   "metadata": {},
   "source": [
    "Similar to distributed return annotation, distributed inputs are annotated as well."
   ]
  },
  {
   "cell_type": "code",
   "execution_count": null,
   "metadata": {},
   "outputs": [],
   "source": []
  }
 ],
 "metadata": {
  "kernelspec": {
   "display_name": "Python (PA)",
   "language": "python",
   "name": "pa"
  }
 },
 "nbformat": 4,
 "nbformat_minor": 2
}

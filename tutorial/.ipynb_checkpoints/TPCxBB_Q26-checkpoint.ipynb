{
 "cells": [
  {
   "cell_type": "markdown",
   "metadata": {},
   "source": [
    "## Environment Setup\n",
    "Connecting to backend execution cores:"
   ]
  },
  {
   "cell_type": "code",
   "execution_count": 1,
   "metadata": {},
   "outputs": [],
   "source": [
    "import ipyparallel as ipp\n",
    "c = ipp.Client(profile='mpi')\n",
    "view = c[:]\n",
    "view.activate()"
   ]
  },
  {
   "cell_type": "markdown",
   "metadata": {},
   "source": [
    "## TPCxBB_Q26 Example Code\n",
    "Retail analytics example from [TPCxBB](http://www.tpc.org/tpcx-bb/default.asp): cluster customers into book buddies/club groups based on their in store book purchasing histories."
   ]
  },
  {
   "cell_type": "code",
   "execution_count": 7,
   "metadata": {},
   "outputs": [],
   "source": [
    "%%px --block\n",
    "import bodo\n",
    "import numpy as np\n",
    "import pandas as pd\n",
    "import sys\n",
    "import time\n",
    "\n",
    "\n",
    "@bodo.jit\n",
    "def q26(ss_file, i_file, category, item_count):\n",
    "    t1 = time.time()\n",
    "    ss_dtype = {'ss_item_sk': np.int64, 'ss_customer_sk': np.int64}\n",
    "    store_sales = pd.read_csv(ss_file, sep='|', usecols=[2,3],\n",
    "        names=ss_dtype.keys(), dtype=ss_dtype)\n",
    "\n",
    "    i_dtype = {\n",
    "        'i_item_sk': np.int64, 'i_class_id': np.int32, 'i_category': str}\n",
    "    item = pd.read_csv(i_file, sep='|', usecols=[0, 9, 12],\n",
    "        names=i_dtype.keys(), dtype=i_dtype)\n",
    "\n",
    "    item2 = item[item['i_category']==category]\n",
    "    sale_items = pd.merge(\n",
    "        store_sales, item2, left_on='ss_item_sk', right_on='i_item_sk')\n",
    "\n",
    "    count1 = sale_items.groupby('ss_customer_sk')['ss_item_sk'].count()\n",
    "    gp1 = sale_items.groupby('ss_customer_sk')['i_class_id']\n",
    "\n",
    "    def id1(x): return (x==1).sum()\n",
    "    def id2(x): return (x==2).sum()\n",
    "    def id3(x): return (x==3).sum()\n",
    "    def id4(x): return (x==4).sum()\n",
    "    def id5(x): return (x==5).sum()\n",
    "    def id6(x): return (x==6).sum()\n",
    "    def id7(x): return (x==7).sum()\n",
    "    def id8(x): return (x==8).sum()\n",
    "    def id9(x): return (x==9).sum()\n",
    "    def id10(x): return (x==10).sum()\n",
    "    def id11(x): return (x==11).sum()\n",
    "    def id12(x): return (x==12).sum()\n",
    "    def id13(x): return (x==13).sum()\n",
    "    def id14(x): return (x==14).sum()\n",
    "    def id15(x): return (x==15).sum()\n",
    "\n",
    "    customer_i_class = gp1.agg((id1, id2, id3, id4, id5, id6, id7, id8, id9,\n",
    "        id10, id11, id12, id13, id14, id15))\n",
    "\n",
    "    customer_i_class['ss_item_count'] = count1\n",
    "\n",
    "    customer_i_class = customer_i_class[\n",
    "        customer_i_class.ss_item_count > item_count]\n",
    "    res = customer_i_class.values.astype(np.float64).sum()\n",
    "    print(\"checksum\", res)\n",
    "    print(\"exec time\", time.time()-t1)"
   ]
  },
  {
   "cell_type": "code",
   "execution_count": 8,
   "metadata": {},
   "outputs": [
    {
     "name": "stdout",
     "output_type": "stream",
     "text": [
      "[stdout:0] \n",
      "checksum 3380326.0\n",
      "exec time 3.272716269000739\n"
     ]
    }
   ],
   "source": [
    "%%px --block\n",
    "ss_file = \"/Users/ehsan/dev/sw/data/store_sales_10.dat\"\n",
    "i_file =  \"/Users/ehsan/dev/sw/data/item_10.dat\"\n",
    "q26_i_category_IN = 'Books'\n",
    "q26_count_ss_item_sk = 5\n",
    "q26(ss_file, i_file, q26_i_category_IN, q26_count_ss_item_sk)"
   ]
  },
  {
   "cell_type": "markdown",
   "metadata": {},
   "source": [
    "## Python Version\n",
    "The same computation in regular Python takes a long time, especially since user-defined aggregate functions are used."
   ]
  },
  {
   "cell_type": "code",
   "execution_count": 9,
   "metadata": {},
   "outputs": [],
   "source": [
    "import bodo\n",
    "import numpy as np\n",
    "import pandas as pd\n",
    "import sys\n",
    "import time\n",
    "\n",
    "\n",
    "def q26(ss_file, i_file, category, item_count):\n",
    "    t1 = time.time()\n",
    "    ss_dtype = {'ss_item_sk': np.int64, 'ss_customer_sk': np.int64}\n",
    "    store_sales = pd.read_csv(ss_file, sep='|', usecols=[2,3],\n",
    "        names=ss_dtype.keys(), dtype=ss_dtype)\n",
    "\n",
    "    i_dtype = {\n",
    "        'i_item_sk': np.int64, 'i_class_id': np.int32, 'i_category': str}\n",
    "    item = pd.read_csv(i_file, sep='|', usecols=[0, 9, 12],\n",
    "        names=i_dtype.keys(), dtype=i_dtype)\n",
    "\n",
    "    item2 = item[item['i_category']==category]\n",
    "    sale_items = pd.merge(\n",
    "        store_sales, item2, left_on='ss_item_sk', right_on='i_item_sk')\n",
    "\n",
    "    count1 = sale_items.groupby('ss_customer_sk')['ss_item_sk'].count()\n",
    "    gp1 = sale_items.groupby('ss_customer_sk')['i_class_id']\n",
    "\n",
    "    def id1(x): return (x==1).sum()\n",
    "    def id2(x): return (x==2).sum()\n",
    "    def id3(x): return (x==3).sum()\n",
    "    def id4(x): return (x==4).sum()\n",
    "    def id5(x): return (x==5).sum()\n",
    "    def id6(x): return (x==6).sum()\n",
    "    def id7(x): return (x==7).sum()\n",
    "    def id8(x): return (x==8).sum()\n",
    "    def id9(x): return (x==9).sum()\n",
    "    def id10(x): return (x==10).sum()\n",
    "    def id11(x): return (x==11).sum()\n",
    "    def id12(x): return (x==12).sum()\n",
    "    def id13(x): return (x==13).sum()\n",
    "    def id14(x): return (x==14).sum()\n",
    "    def id15(x): return (x==15).sum()\n",
    "\n",
    "    customer_i_class = gp1.agg((id1, id2, id3, id4, id5, id6, id7, id8, id9,\n",
    "        id10, id11, id12, id13, id14, id15))\n",
    "\n",
    "    customer_i_class['ss_item_count'] = count1\n",
    "\n",
    "    customer_i_class = customer_i_class[\n",
    "        customer_i_class.ss_item_count > item_count]\n",
    "    res = customer_i_class.values.astype(np.float64).sum()\n",
    "    print(\"checksum\", res)\n",
    "    print(\"exec time\", time.time()-t1)"
   ]
  },
  {
   "cell_type": "code",
   "execution_count": 10,
   "metadata": {},
   "outputs": [
    {
     "name": "stdout",
     "output_type": "stream",
     "text": [
      "checksum 3380326.0\n",
      "exec time 715.5162229537964\n"
     ]
    }
   ],
   "source": [
    "ss_file = \"/Users/ehsan/dev/sw/data/store_sales_10.dat\"\n",
    "i_file =  \"/Users/ehsan/dev/sw/data/item_10.dat\"\n",
    "q26_i_category_IN = 'Books'\n",
    "q26_count_ss_item_sk = 5\n",
    "q26(ss_file, i_file, q26_i_category_IN, q26_count_ss_item_sk)"
   ]
  },
  {
   "cell_type": "markdown",
   "metadata": {},
   "source": [
    "This computation takes 715.5 seconds on Python but only 3.27 seconds on Bodo (220x speedup on 8 cores)"
   ]
  },
  {
   "cell_type": "code",
   "execution_count": null,
   "metadata": {},
   "outputs": [],
   "source": []
  }
 ],
 "metadata": {
  "kernelspec": {
   "display_name": "Python 3",
   "language": "python",
   "name": "python3"
  },
  "language_info": {
   "codemirror_mode": {
    "name": "ipython",
    "version": 3
   },
   "file_extension": ".py",
   "mimetype": "text/x-python",
   "name": "python",
   "nbconvert_exporter": "python",
   "pygments_lexer": "ipython3",
   "version": "3.7.3"
  }
 },
 "nbformat": 4,
 "nbformat_minor": 2
}

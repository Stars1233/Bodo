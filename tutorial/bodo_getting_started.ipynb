{
 "cells": [
  {
   "cell_type": "markdown",
   "metadata": {},
   "source": [
    "# Bodo Getting Started Tutorial\n",
    "\n",
    "Bodo is the simplest and most efficient analytics engine. It accelerates and scales data science programs\n",
    "automatically and enables instant deployment, eliminating the need to rewrite Python analytics code to Spark/Scala, SQL or MPI/C++.\n",
    "In this tutorial, we will cover the basics of using Bodo and explain how it works under the hoods.\n",
    "\n",
    "In a nutshell, Bodo provides a just-in-time (JIT) compilation workflow using the @bodo.jit decorator. It replaces the decorated Python functions with an optimized and parallelized binary version using advanced compilation methods.\n",
    "\n",
    "Let's get started!"
   ]
  },
  {
   "cell_type": "markdown",
   "metadata": {},
   "source": [
    "## Environment Setup\n",
    "Make sure MPI engines are started in the `IPython Clusters` tab (or using `ipcluster start -n 8 --profile=mpi`), then initialize the `ipyparallel` environment:"
   ]
  },
  {
   "cell_type": "code",
   "execution_count": 1,
   "metadata": {},
   "outputs": [],
   "source": [
    "import ipyparallel as ipp\n",
    "c = ipp.Client(profile='mpi')\n",
    "view = c[:]\n",
    "view.activate()"
   ]
  },
  {
   "cell_type": "markdown",
   "metadata": {},
   "source": [
    "## Pi Example\n",
    "Let's start with a simple example, which computes the value of Pi using Monte-Carlo Integration, to get familiar with the execution environment. Here is the Python version:"
   ]
  },
  {
   "cell_type": "code",
   "execution_count": 2,
   "metadata": {},
   "outputs": [
    {
     "name": "stdout",
     "output_type": "stream",
     "text": [
      "Execution time: 8.239847183227539 \n",
      "result: 3.14149874\n"
     ]
    },
    {
     "data": {
      "text/plain": [
       "3.14149874"
      ]
     },
     "execution_count": 2,
     "metadata": {},
     "output_type": "execute_result"
    }
   ],
   "source": [
    "import numpy as np\n",
    "import time\n",
    "\n",
    "def calc_pi(n):\n",
    "    t1 = time.time()\n",
    "    x = 2 * np.random.ranf(n) - 1\n",
    "    y = 2 * np.random.ranf(n) - 1\n",
    "    pi = 4 * np.sum(x**2 + y**2 < 1) / n\n",
    "    print(\"Execution time:\", time.time()-t1, \"\\nresult:\", pi)\n",
    "    return pi\n",
    "\n",
    "calc_pi(2 * 10**8)"
   ]
  },
  {
   "cell_type": "markdown",
   "metadata": {},
   "source": [
    "Now let's add the @bodo.jit decorator and run it (without parallel engines):"
   ]
  },
  {
   "cell_type": "code",
   "execution_count": 3,
   "metadata": {},
   "outputs": [
    {
     "name": "stdout",
     "output_type": "stream",
     "text": [
      "Execution time: 2.248674508999102 \n",
      "result: 3.1414679\n"
     ]
    },
    {
     "data": {
      "text/plain": [
       "3.1414679"
      ]
     },
     "execution_count": 3,
     "metadata": {},
     "output_type": "execute_result"
    }
   ],
   "source": [
    "import bodo\n",
    "\n",
    "@bodo.jit\n",
    "def calc_pi(n):\n",
    "    t1 = time.time()\n",
    "    x = 2 * np.random.ranf(n) - 1\n",
    "    y = 2 * np.random.ranf(n) - 1\n",
    "    pi = 4 * np.sum(x**2 + y**2 < 1) / n\n",
    "    print(\"Execution time:\", time.time()-t1, \"\\nresult:\", pi)\n",
    "    return pi\n",
    "\n",
    "calc_pi(2 * 10**8)"
   ]
  },
  {
   "cell_type": "markdown",
   "metadata": {},
   "source": [
    "We see significant speedup due to compiler optimization. Now let's use the parallel engines using the `%%px` magic:"
   ]
  },
  {
   "cell_type": "code",
   "execution_count": 4,
   "metadata": {},
   "outputs": [
    {
     "name": "stdout",
     "output_type": "stream",
     "text": [
      "[stdout:0] \n",
      "Execution time: 0.8065992589981761 \n",
      "result: 3.14135774\n"
     ]
    }
   ],
   "source": [
    "%%px --block\n",
    "import bodo\n",
    "import numpy as np\n",
    "import time\n",
    "\n",
    "@bodo.jit\n",
    "def calc_pi(n):\n",
    "    t1 = time.time()\n",
    "    x = 2 * np.random.ranf(n) - 1\n",
    "    y = 2 * np.random.ranf(n) - 1\n",
    "    pi = 4 * np.sum(x**2 + y**2 < 1) / n\n",
    "    print(\"Execution time:\", time.time()-t1, \"\\nresult:\", pi)\n",
    "    return pi\n",
    "\n",
    "p = calc_pi(2 * 10**8)"
   ]
  },
  {
   "cell_type": "markdown",
   "metadata": {},
   "source": [
    "Bodo automatically parallelizes this code and distributes the work among parallel engines. Hence, we see additional speedup depending on the number of cores used by engines."
   ]
  },
  {
   "cell_type": "markdown",
   "metadata": {},
   "source": [
    "## File Input\n",
    "<img style=\"float: right;\" src=\"img/file-read.jpg\">\n",
    "Efficient parallel data processing requries data I/O to be parallelized effectively as well. Bodo provides parallel file I/O for different formats such as CSV, Parquet, and HDF5 (not covered in this tutorial). This diagram demonstrates how chunks of data are partitioned among execution engines by Bodo.\n",
    "\n",
    "### Parquet\n",
    "Parquet is a commonly used file format in analytics due to its efficient columnar storage.\n",
    "Let's read a Parquet file:\n"
   ]
  },
  {
   "cell_type": "code",
   "execution_count": 5,
   "metadata": {},
   "outputs": [
    {
     "data": {
      "text/plain": [
       "[output:0]"
      ]
     },
     "metadata": {},
     "output_type": "display_data"
    },
    {
     "data": {
      "text/html": [
       "<div>\n",
       "<style scoped>\n",
       "    .dataframe tbody tr th:only-of-type {\n",
       "        vertical-align: middle;\n",
       "    }\n",
       "\n",
       "    .dataframe tbody tr th {\n",
       "        vertical-align: top;\n",
       "    }\n",
       "\n",
       "    .dataframe thead th {\n",
       "        text-align: right;\n",
       "    }\n",
       "</style>\n",
       "<table border=\"1\" class=\"dataframe\">\n",
       "  <thead>\n",
       "    <tr style=\"text-align: right;\">\n",
       "      <th></th>\n",
       "      <th>Unnamed: 0</th>\n",
       "      <th>altitude</th>\n",
       "      <th>cadence</th>\n",
       "      <th>distance</th>\n",
       "      <th>hr</th>\n",
       "      <th>latitude</th>\n",
       "      <th>longitude</th>\n",
       "      <th>power</th>\n",
       "      <th>speed</th>\n",
       "      <th>time</th>\n",
       "    </tr>\n",
       "  </thead>\n",
       "  <tbody>\n",
       "    <tr>\n",
       "      <th>0</th>\n",
       "      <td>0</td>\n",
       "      <td>185.800003</td>\n",
       "      <td>51</td>\n",
       "      <td>3.46</td>\n",
       "      <td>81</td>\n",
       "      <td>30.313309</td>\n",
       "      <td>-97.732711</td>\n",
       "      <td>45</td>\n",
       "      <td>3.459</td>\n",
       "      <td>2016-10-20 22:01:26</td>\n",
       "    </tr>\n",
       "    <tr>\n",
       "      <th>1</th>\n",
       "      <td>1</td>\n",
       "      <td>185.800003</td>\n",
       "      <td>68</td>\n",
       "      <td>7.17</td>\n",
       "      <td>82</td>\n",
       "      <td>30.313277</td>\n",
       "      <td>-97.732715</td>\n",
       "      <td>0</td>\n",
       "      <td>3.710</td>\n",
       "      <td>2016-10-20 22:01:27</td>\n",
       "    </tr>\n",
       "    <tr>\n",
       "      <th>2</th>\n",
       "      <td>2</td>\n",
       "      <td>186.399994</td>\n",
       "      <td>38</td>\n",
       "      <td>11.04</td>\n",
       "      <td>82</td>\n",
       "      <td>30.313243</td>\n",
       "      <td>-97.732717</td>\n",
       "      <td>42</td>\n",
       "      <td>3.874</td>\n",
       "      <td>2016-10-20 22:01:28</td>\n",
       "    </tr>\n",
       "    <tr>\n",
       "      <th>3</th>\n",
       "      <td>3</td>\n",
       "      <td>186.800003</td>\n",
       "      <td>38</td>\n",
       "      <td>15.18</td>\n",
       "      <td>83</td>\n",
       "      <td>30.313212</td>\n",
       "      <td>-97.732720</td>\n",
       "      <td>5</td>\n",
       "      <td>4.135</td>\n",
       "      <td>2016-10-20 22:01:29</td>\n",
       "    </tr>\n",
       "    <tr>\n",
       "      <th>4</th>\n",
       "      <td>4</td>\n",
       "      <td>186.600006</td>\n",
       "      <td>38</td>\n",
       "      <td>19.43</td>\n",
       "      <td>83</td>\n",
       "      <td>30.313172</td>\n",
       "      <td>-97.732723</td>\n",
       "      <td>1</td>\n",
       "      <td>4.250</td>\n",
       "      <td>2016-10-20 22:01:30</td>\n",
       "    </tr>\n",
       "  </tbody>\n",
       "</table>\n",
       "</div>"
      ],
      "text/plain": [
       "   Unnamed: 0    altitude  cadence  distance  hr   latitude  longitude  power  \\\n",
       "0           0  185.800003       51      3.46  81  30.313309 -97.732711     45   \n",
       "1           1  185.800003       68      7.17  82  30.313277 -97.732715      0   \n",
       "2           2  186.399994       38     11.04  82  30.313243 -97.732717     42   \n",
       "3           3  186.800003       38     15.18  83  30.313212 -97.732720      5   \n",
       "4           4  186.600006       38     19.43  83  30.313172 -97.732723      1   \n",
       "\n",
       "   speed                time  \n",
       "0  3.459 2016-10-20 22:01:26  \n",
       "1  3.710 2016-10-20 22:01:27  \n",
       "2  3.874 2016-10-20 22:01:28  \n",
       "3  4.135 2016-10-20 22:01:29  \n",
       "4  4.250 2016-10-20 22:01:30  "
      ]
     },
     "metadata": {
      "engine": 0
     },
     "output_type": "display_data"
    }
   ],
   "source": [
    "%%px --block\n",
    "import pandas as pd\n",
    "from IPython.display import display\n",
    "\n",
    "\n",
    "@bodo.jit\n",
    "def pq_read():\n",
    "    df = pd.read_parquet('cycling_dataset.pq')\n",
    "    return df.head()\n",
    "\n",
    "res = pq_read()\n",
    "if bodo.get_rank() == 0: display(res)  # display results only once"
   ]
  },
  {
   "cell_type": "markdown",
   "metadata": {},
   "source": [
    "Bodo parallelizes `pd.read_parquet` and reads equal chunks of dataframe data into the engines. Hence, the returned `df` dataframe is fully distributed and ready for scalable computation."
   ]
  },
  {
   "cell_type": "markdown",
   "metadata": {},
   "source": [
    "### CSV\n",
    "Let's read the same data from a CSV file:"
   ]
  },
  {
   "cell_type": "code",
   "execution_count": 6,
   "metadata": {},
   "outputs": [
    {
     "data": {
      "text/plain": [
       "[output:0]"
      ]
     },
     "metadata": {},
     "output_type": "display_data"
    },
    {
     "data": {
      "text/html": [
       "<div>\n",
       "<style scoped>\n",
       "    .dataframe tbody tr th:only-of-type {\n",
       "        vertical-align: middle;\n",
       "    }\n",
       "\n",
       "    .dataframe tbody tr th {\n",
       "        vertical-align: top;\n",
       "    }\n",
       "\n",
       "    .dataframe thead th {\n",
       "        text-align: right;\n",
       "    }\n",
       "</style>\n",
       "<table border=\"1\" class=\"dataframe\">\n",
       "  <thead>\n",
       "    <tr style=\"text-align: right;\">\n",
       "      <th></th>\n",
       "      <th>altitude</th>\n",
       "      <th>cadence</th>\n",
       "      <th>distance</th>\n",
       "      <th>hr</th>\n",
       "      <th>latitude</th>\n",
       "      <th>longitude</th>\n",
       "      <th>power</th>\n",
       "      <th>speed</th>\n",
       "      <th>time</th>\n",
       "    </tr>\n",
       "  </thead>\n",
       "  <tbody>\n",
       "    <tr>\n",
       "      <th>0</th>\n",
       "      <td>0.0</td>\n",
       "      <td>0.0</td>\n",
       "      <td>185.800003</td>\n",
       "      <td>51.0</td>\n",
       "      <td>3.46</td>\n",
       "      <td>81.0</td>\n",
       "      <td>30.313309</td>\n",
       "      <td>-97.732711</td>\n",
       "      <td>45</td>\n",
       "    </tr>\n",
       "    <tr>\n",
       "      <th>1</th>\n",
       "      <td>1.0</td>\n",
       "      <td>1.0</td>\n",
       "      <td>185.800003</td>\n",
       "      <td>68.0</td>\n",
       "      <td>7.17</td>\n",
       "      <td>82.0</td>\n",
       "      <td>30.313277</td>\n",
       "      <td>-97.732715</td>\n",
       "      <td>0</td>\n",
       "    </tr>\n",
       "    <tr>\n",
       "      <th>2</th>\n",
       "      <td>2.0</td>\n",
       "      <td>2.0</td>\n",
       "      <td>186.399994</td>\n",
       "      <td>38.0</td>\n",
       "      <td>11.04</td>\n",
       "      <td>82.0</td>\n",
       "      <td>30.313243</td>\n",
       "      <td>-97.732717</td>\n",
       "      <td>42</td>\n",
       "    </tr>\n",
       "    <tr>\n",
       "      <th>3</th>\n",
       "      <td>3.0</td>\n",
       "      <td>3.0</td>\n",
       "      <td>186.800003</td>\n",
       "      <td>38.0</td>\n",
       "      <td>15.18</td>\n",
       "      <td>83.0</td>\n",
       "      <td>30.313212</td>\n",
       "      <td>-97.732720</td>\n",
       "      <td>5</td>\n",
       "    </tr>\n",
       "    <tr>\n",
       "      <th>4</th>\n",
       "      <td>4.0</td>\n",
       "      <td>4.0</td>\n",
       "      <td>186.600006</td>\n",
       "      <td>38.0</td>\n",
       "      <td>19.43</td>\n",
       "      <td>83.0</td>\n",
       "      <td>30.313172</td>\n",
       "      <td>-97.732723</td>\n",
       "      <td>1</td>\n",
       "    </tr>\n",
       "  </tbody>\n",
       "</table>\n",
       "</div>"
      ],
      "text/plain": [
       "   altitude  cadence    distance    hr  latitude  longitude      power  \\\n",
       "0       0.0      0.0  185.800003  51.0      3.46       81.0  30.313309   \n",
       "1       1.0      1.0  185.800003  68.0      7.17       82.0  30.313277   \n",
       "2       2.0      2.0  186.399994  38.0     11.04       82.0  30.313243   \n",
       "3       3.0      3.0  186.800003  38.0     15.18       83.0  30.313212   \n",
       "4       4.0      4.0  186.600006  38.0     19.43       83.0  30.313172   \n",
       "\n",
       "       speed time  \n",
       "0 -97.732711   45  \n",
       "1 -97.732715    0  \n",
       "2 -97.732717   42  \n",
       "3 -97.732720    5  \n",
       "4 -97.732723    1  "
      ]
     },
     "metadata": {
      "engine": 0
     },
     "output_type": "display_data"
    }
   ],
   "source": [
    "%%px --block\n",
    "\n",
    "@bodo.jit\n",
    "def csv_example(fname):\n",
    "    coltypes = {'altitude': np.float64,\n",
    "                'cadence': np.float64,\n",
    "                'distance': np.float64,\n",
    "                'hr': np.float64,\n",
    "                'latitude': np.float64,\n",
    "                'longitude': np.float64,\n",
    "                'power': np.float64,\n",
    "                'speed': np.float64,\n",
    "                'time': str}\n",
    "    df = pd.read_csv(fname, names=coltypes.keys(), dtype=coltypes)\n",
    "    return df.head()\n",
    "\n",
    "fname = 'cycling_dataset.csv'\n",
    "res = csv_example(fname)\n",
    "if bodo.get_rank() == 0: display(res)"
   ]
  },
  {
   "cell_type": "markdown",
   "metadata": {},
   "source": [
    "In this example, we need to provide column types since file name is not a constant in the function to allow Bodo to know the data types during compilation."
   ]
  },
  {
   "cell_type": "markdown",
   "metadata": {},
   "source": [
    "<img style=\"float: right;\" src=\"img/data-parallel.jpg\">\n",
    "\n",
    "## Data-Parallel Operations\n",
    "Many operations in Numpy and Pandas are fully data-parallel, which lets Bodo parallelize them across data blocks without communication between processors.\n",
    "Examples are many of math operators, filtering, combining columns, normlization, dropping rows/columns, etc.\n",
    "\n",
    "Let's drop some rows and columns, and create a new column by extracting month from the time column."
   ]
  },
  {
   "cell_type": "code",
   "execution_count": 7,
   "metadata": {},
   "outputs": [
    {
     "data": {
      "text/plain": [
       "[output:0]"
      ]
     },
     "metadata": {},
     "output_type": "display_data"
    },
    {
     "data": {
      "text/html": [
       "<div>\n",
       "<style scoped>\n",
       "    .dataframe tbody tr th:only-of-type {\n",
       "        vertical-align: middle;\n",
       "    }\n",
       "\n",
       "    .dataframe tbody tr th {\n",
       "        vertical-align: top;\n",
       "    }\n",
       "\n",
       "    .dataframe thead th {\n",
       "        text-align: right;\n",
       "    }\n",
       "</style>\n",
       "<table border=\"1\" class=\"dataframe\">\n",
       "  <thead>\n",
       "    <tr style=\"text-align: right;\">\n",
       "      <th></th>\n",
       "      <th>Unnamed: 0</th>\n",
       "      <th>altitude</th>\n",
       "      <th>cadence</th>\n",
       "      <th>distance</th>\n",
       "      <th>hr</th>\n",
       "      <th>speed</th>\n",
       "      <th>month</th>\n",
       "    </tr>\n",
       "  </thead>\n",
       "  <tbody>\n",
       "    <tr>\n",
       "      <th>0</th>\n",
       "      <td>0</td>\n",
       "      <td>185.800003</td>\n",
       "      <td>51</td>\n",
       "      <td>3.460000</td>\n",
       "      <td>81</td>\n",
       "      <td>3.459</td>\n",
       "      <td>10</td>\n",
       "    </tr>\n",
       "    <tr>\n",
       "      <th>2</th>\n",
       "      <td>2</td>\n",
       "      <td>186.399994</td>\n",
       "      <td>38</td>\n",
       "      <td>11.040000</td>\n",
       "      <td>82</td>\n",
       "      <td>3.874</td>\n",
       "      <td>10</td>\n",
       "    </tr>\n",
       "    <tr>\n",
       "      <th>3</th>\n",
       "      <td>3</td>\n",
       "      <td>186.800003</td>\n",
       "      <td>38</td>\n",
       "      <td>15.180000</td>\n",
       "      <td>83</td>\n",
       "      <td>4.135</td>\n",
       "      <td>10</td>\n",
       "    </tr>\n",
       "    <tr>\n",
       "      <th>4</th>\n",
       "      <td>4</td>\n",
       "      <td>186.600006</td>\n",
       "      <td>38</td>\n",
       "      <td>19.430000</td>\n",
       "      <td>83</td>\n",
       "      <td>4.250</td>\n",
       "      <td>10</td>\n",
       "    </tr>\n",
       "    <tr>\n",
       "      <th>12</th>\n",
       "      <td>12</td>\n",
       "      <td>186.199997</td>\n",
       "      <td>0</td>\n",
       "      <td>51.610001</td>\n",
       "      <td>80</td>\n",
       "      <td>3.029</td>\n",
       "      <td>10</td>\n",
       "    </tr>\n",
       "  </tbody>\n",
       "</table>\n",
       "</div>"
      ],
      "text/plain": [
       "    Unnamed: 0    altitude  cadence   distance  hr  speed  month\n",
       "0            0  185.800003       51   3.460000  81  3.459     10\n",
       "2            2  186.399994       38  11.040000  82  3.874     10\n",
       "3            3  186.800003       38  15.180000  83  4.135     10\n",
       "4            4  186.600006       38  19.430000  83  4.250     10\n",
       "12          12  186.199997        0  51.610001  80  3.029     10"
      ]
     },
     "metadata": {
      "engine": 0
     },
     "output_type": "display_data"
    }
   ],
   "source": [
    "%%px --block\n",
    "\n",
    "@bodo.jit\n",
    "def data_par():\n",
    "    df = pd.read_parquet('cycling_dataset.pq')\n",
    "    df = df[df.power!=0]\n",
    "    df['month'] = df.time.dt.month\n",
    "    df = df.drop(['latitude', 'longitude', 'power', 'time'], axis=1)\n",
    "    return df.head()\n",
    "\n",
    "res = data_par()\n",
    "if bodo.get_rank() == 0: display(res)"
   ]
  },
  {
   "cell_type": "markdown",
   "metadata": {},
   "source": [
    "<img style=\"float: right;\" src=\"img/reduction.jpg\">\n",
    "\n",
    "## Reduction operations\n",
    "Some operators such as `sum` require reduction operation across all of data, which implies communication across data blocks. Bodo handles these operations using efficient MPI communication, and makes the output available on all processors.\n",
    "\n",
    "As an example let's compute the mean of the 'power' column."
   ]
  },
  {
   "cell_type": "code",
   "execution_count": 8,
   "metadata": {},
   "outputs": [
    {
     "data": {
      "text/plain": [
       "[output:0]"
      ]
     },
     "metadata": {},
     "output_type": "display_data"
    },
    {
     "data": {
      "text/plain": [
       "102.07842132239877"
      ]
     },
     "metadata": {
      "engine": 0
     },
     "output_type": "display_data"
    }
   ],
   "source": [
    "%%px --block\n",
    "\n",
    "@bodo.jit\n",
    "def mean_power():\n",
    "    df = pd.read_parquet('cycling_dataset.pq')\n",
    "    return df.power.mean()\n",
    "\n",
    "res = mean_power()\n",
    "if bodo.get_rank() == 0: display(res)"
   ]
  },
  {
   "cell_type": "markdown",
   "metadata": {},
   "source": [
    "<img style=\"float: right;\" src=\"img/groupby.jpg\">\n",
    "\n",
    "## GroupBy/Aggregation\n",
    "Grouping operations, which are typically followed by aggregations/reductions, are\n",
    "more challenging for parallel and distributed environments. Bodo uses efficient MPI communication primitives to provide fast and scalable groupby/aggregations.\n",
    "\n",
    "Let's compute the average power output per hour:"
   ]
  },
  {
   "cell_type": "code",
   "execution_count": 9,
   "metadata": {},
   "outputs": [
    {
     "data": {
      "text/plain": [
       "[output:0]"
      ]
     },
     "metadata": {},
     "output_type": "display_data"
    },
    {
     "data": {
      "text/plain": [
       "22    110.625821\n",
       "23     71.754079\n",
       "Name: power, dtype: float64"
      ]
     },
     "metadata": {
      "engine": 0
     },
     "output_type": "display_data"
    }
   ],
   "source": [
    "%%px --block\n",
    "import pandas as pd\n",
    "import numpy as np\n",
    "import bodo\n",
    "\n",
    "@bodo.jit\n",
    "def mean_power_pm():\n",
    "    df = pd.read_parquet('cycling_dataset.pq')\n",
    "    df['hour'] = df.time.dt.hour\n",
    "    grp = df.groupby('hour')\n",
    "    mean_df = grp['power'].mean()\n",
    "    return mean_df.head()\n",
    "\n",
    "res = mean_power_pm()\n",
    "if bodo.get_rank() == 0: display(res)"
   ]
  },
  {
   "cell_type": "markdown",
   "metadata": {},
   "source": [
    "<img style=\"float: right;\" src=\"img/rolling.jpg\">\n",
    "\n",
    "## Sliding Windows\n",
    "Some popular analytics operations, especially for time-series analysis, are based on sliding windows. Examples include moving averages and percentage change. In a distributed setup, these require communication beyond map-reduce (which is the basis of most systems such as Spark). Bodo handles these cases using efficient patterns known from HPC.\n",
    "\n",
    "Let's compute the moving average of the heart-rate."
   ]
  },
  {
   "cell_type": "code",
   "execution_count": 10,
   "metadata": {},
   "outputs": [
    {
     "data": {
      "text/plain": [
       "[output:0]"
      ]
     },
     "metadata": {},
     "output_type": "display_data"
    },
    {
     "data": {
      "text/plain": [
       "0     NaN\n",
       "1     NaN\n",
       "2     NaN\n",
       "3    82.0\n",
       "4    82.5\n",
       "Name: hr, dtype: float64"
      ]
     },
     "metadata": {
      "engine": 0
     },
     "output_type": "display_data"
    }
   ],
   "source": [
    "%%px --block\n",
    "\n",
    "@bodo.jit\n",
    "def mov_avg():\n",
    "    df = pd.read_parquet('cycling_dataset.pq')\n",
    "    mv_av = df.hr.rolling(4).mean()\n",
    "    return mv_av.head()\n",
    "\n",
    "res = mov_avg()\n",
    "if bodo.get_rank() == 0: display(res)"
   ]
  },
  {
   "cell_type": "markdown",
   "metadata": {},
   "source": [
    "## Join\n",
    "Bodo can also efficiently join dataframes, which uses a communication pattern similar to Groupby.\n",
    "\n",
    "Let's read data, split into 2 dataframes and re-join on time column."
   ]
  },
  {
   "cell_type": "code",
   "execution_count": 11,
   "metadata": {},
   "outputs": [
    {
     "data": {
      "text/plain": [
       "[output:0]"
      ]
     },
     "metadata": {},
     "output_type": "display_data"
    },
    {
     "data": {
      "text/html": [
       "<div>\n",
       "<style scoped>\n",
       "    .dataframe tbody tr th:only-of-type {\n",
       "        vertical-align: middle;\n",
       "    }\n",
       "\n",
       "    .dataframe tbody tr th {\n",
       "        vertical-align: top;\n",
       "    }\n",
       "\n",
       "    .dataframe thead th {\n",
       "        text-align: right;\n",
       "    }\n",
       "</style>\n",
       "<table border=\"1\" class=\"dataframe\">\n",
       "  <thead>\n",
       "    <tr style=\"text-align: right;\">\n",
       "      <th></th>\n",
       "      <th>altitude</th>\n",
       "      <th>cadence</th>\n",
       "      <th>distance</th>\n",
       "      <th>hr</th>\n",
       "      <th>time</th>\n",
       "      <th>latitude</th>\n",
       "      <th>longitude</th>\n",
       "      <th>power</th>\n",
       "      <th>speed</th>\n",
       "    </tr>\n",
       "  </thead>\n",
       "  <tbody>\n",
       "    <tr>\n",
       "      <th>0</th>\n",
       "      <td>186.600006</td>\n",
       "      <td>0</td>\n",
       "      <td>23.860001</td>\n",
       "      <td>84</td>\n",
       "      <td>2016-10-20 22:01:31</td>\n",
       "      <td>30.313130</td>\n",
       "      <td>-97.732724</td>\n",
       "      <td>0</td>\n",
       "      <td>4.435</td>\n",
       "    </tr>\n",
       "    <tr>\n",
       "      <th>1</th>\n",
       "      <td>186.600006</td>\n",
       "      <td>0</td>\n",
       "      <td>28.350000</td>\n",
       "      <td>84</td>\n",
       "      <td>2016-10-20 22:01:32</td>\n",
       "      <td>30.313093</td>\n",
       "      <td>-97.732723</td>\n",
       "      <td>0</td>\n",
       "      <td>4.490</td>\n",
       "    </tr>\n",
       "    <tr>\n",
       "      <th>2</th>\n",
       "      <td>186.600006</td>\n",
       "      <td>0</td>\n",
       "      <td>32.970001</td>\n",
       "      <td>83</td>\n",
       "      <td>2016-10-20 22:01:33</td>\n",
       "      <td>30.313050</td>\n",
       "      <td>-97.732717</td>\n",
       "      <td>0</td>\n",
       "      <td>4.621</td>\n",
       "    </tr>\n",
       "    <tr>\n",
       "      <th>3</th>\n",
       "      <td>186.600006</td>\n",
       "      <td>0</td>\n",
       "      <td>37.560001</td>\n",
       "      <td>84</td>\n",
       "      <td>2016-10-20 22:01:34</td>\n",
       "      <td>30.313011</td>\n",
       "      <td>-97.732702</td>\n",
       "      <td>0</td>\n",
       "      <td>4.591</td>\n",
       "    </tr>\n",
       "    <tr>\n",
       "      <th>4</th>\n",
       "      <td>186.199997</td>\n",
       "      <td>70</td>\n",
       "      <td>86.339996</td>\n",
       "      <td>88</td>\n",
       "      <td>2016-10-20 22:01:46</td>\n",
       "      <td>30.312580</td>\n",
       "      <td>-97.732621</td>\n",
       "      <td>109</td>\n",
       "      <td>5.553</td>\n",
       "    </tr>\n",
       "  </tbody>\n",
       "</table>\n",
       "</div>"
      ],
      "text/plain": [
       "     altitude  cadence   distance  hr                time   latitude  \\\n",
       "0  186.600006        0  23.860001  84 2016-10-20 22:01:31  30.313130   \n",
       "1  186.600006        0  28.350000  84 2016-10-20 22:01:32  30.313093   \n",
       "2  186.600006        0  32.970001  83 2016-10-20 22:01:33  30.313050   \n",
       "3  186.600006        0  37.560001  84 2016-10-20 22:01:34  30.313011   \n",
       "4  186.199997       70  86.339996  88 2016-10-20 22:01:46  30.312580   \n",
       "\n",
       "   longitude  power  speed  \n",
       "0 -97.732724      0  4.435  \n",
       "1 -97.732723      0  4.490  \n",
       "2 -97.732717      0  4.621  \n",
       "3 -97.732702      0  4.591  \n",
       "4 -97.732621    109  5.553  "
      ]
     },
     "metadata": {
      "engine": 0
     },
     "output_type": "display_data"
    }
   ],
   "source": [
    "%%px --block\n",
    "\n",
    "@bodo.jit\n",
    "def merge_dfs():\n",
    "    df = pd.read_parquet('cycling_dataset.pq')\n",
    "    df1 = df[['altitude', 'cadence', 'distance', 'hr', 'time']]\n",
    "    df2 = df[['latitude', 'longitude', 'power', 'speed', 'time']]\n",
    "    df3 = df1.merge(df2, on='time')\n",
    "    return df3.head()\n",
    "\n",
    "res = merge_dfs()\n",
    "if bodo.get_rank() == 0: display(res)"
   ]
  },
  {
   "cell_type": "markdown",
   "metadata": {},
   "source": [
    "## Automatic Distribution\n",
    "\n",
    "Bodo automatically distributes data and computation of the target function by analyzing it for parallelization. It chooses the best and *safest* possible distribution. For example, returning distributed data is not necessary *safe*, since the code outside of the bodo scope would need to handle chunks of data instead of the full data. Consider the example below:"
   ]
  },
  {
   "cell_type": "code",
   "execution_count": 12,
   "metadata": {},
   "outputs": [
    {
     "name": "stdout",
     "output_type": "stream",
     "text": [
      "[stdout:0] \n",
      "(3902, 10)\n",
      "Distributed diagnostics for function read_pq, <ipython-input-76-70a5aeb5d795> (1)\n",
      "\n",
      "Data distributions:\n",
      "   Unnamed: 0.77403           REP\n",
      "   altitude.77404             REP\n",
      "   cadence.77405              REP\n",
      "   distance.77406             REP\n",
      "   hr.77407                   REP\n",
      "   latitude.77408             REP\n",
      "   longitude.77409            REP\n",
      "   power.77410                REP\n",
      "   speed.77411                REP\n",
      "   time.77412                 REP\n",
      "   __index_level_0__.77413    REP\n",
      "   $0.15.77429                [<Distribution.REP: 1>, <Distribution.REP: 1>, <Distribution.REP: 1>, <Distribution.REP: 1>, <Distribution.REP: 1>, <Distribution.REP: 1>, <Distribution.REP: 1>, <Distribution.REP: 1>, <Distribution.REP: 1>, <Distribution.REP: 1>]\n",
      "   $0.23.77539                REP\n",
      "   $df.77578                  REP\n",
      "   $0.6                       REP\n",
      "\n",
      "Parfor distributions:\n",
      "No parfors to distribute.\n",
      "\n",
      "Distributed listing for function read_pq, <ipython-input-76-70a5aeb5d795> (1)\n",
      "--------------------------------------------------| parfor_id/variable: distribution\n",
      "@bodo.jit                                         | \n",
      "def read_pq():                                    | \n",
      "    df = pd.read_parquet('cycling_dataset.pq')----| Unnamed: 0.77403: REP, altitude.77404: REP, cadence.77405: REP, distance.77406: REP, hr.77407: REP, latitude.77408: REP, longitude.77409: REP, power.77410: REP, speed.77411: REP, time.77412: REP, __index_level_0__.77413: REP, $0.15.77429: [<Distribution.REP: 1>, <Distribution.REP: 1>, <Distribution.REP: 1>, <Distribution.REP: 1>, <Distribution.REP: 1>, <Distribution.REP: 1>, <Distribution.REP: 1>, <Distribution.REP: 1>, <Distribution.REP: 1>, <Distribution.REP: 1>], $0.23.77539: REP, $df.77578: REP\n",
      "    return df-------------------------------------| $0.6: REP\n",
      "\n",
      "Distributed analysis replicated output variable $0.6. Set distributed flag for the original variable if distributed partitions should be returned.\n",
      "\n",
      "[stdout:1] (3902, 10)\n",
      "[stdout:2] (3902, 10)\n",
      "[stdout:3] (3902, 10)\n",
      "[stdout:4] (3902, 10)\n",
      "[stdout:5] (3902, 10)\n",
      "[stdout:6] (3902, 10)\n",
      "[stdout:7] (3902, 10)\n"
     ]
    },
    {
     "name": "stderr",
     "output_type": "stream",
     "text": [
      "[stderr:0] \n",
      "/Users/ehsan/dev/bodo/bodo/transforms/distributed_analysis.py:240: BodoWarning: No parallelism found for function 'read_pq'. This could be due to unsupported usage. See distributed diagnostics for more information.\n",
      "  \"information.\".format(self.func_ir.func_id.func_name)\n"
     ]
    }
   ],
   "source": [
    "%%px --block\n",
    "\n",
    "@bodo.jit\n",
    "def read_pq():\n",
    "    df = pd.read_parquet('cycling_dataset.pq')\n",
    "    return df\n",
    "\n",
    "df = read_pq()\n",
    "print(df.shape)\n",
    "if bodo.get_rank() == 0: read_pq.distributed_diagnostics()"
   ]
  },
  {
   "cell_type": "markdown",
   "metadata": {},
   "source": [
    "The `distributed_diagnostics` function prints diagnostics information about distribution analysis by Bodo. In this case, all variables are assigned the `REP` distribution, which means they are replicated and there is no distribution of data. The reason is the return of `df`, which also propagates `REP` to all other variables since they are involved in parallel computation with `df`.\n",
    "\n",
    "We can change this behavior by a simple annotation for `df`:"
   ]
  },
  {
   "cell_type": "code",
   "execution_count": 13,
   "metadata": {},
   "outputs": [
    {
     "name": "stdout",
     "output_type": "stream",
     "text": [
      "[stdout:0] \n",
      "(488, 10)\n",
      "Distributed diagnostics for function read_pq, <ipython-input-77-cdd5d7a9c9a3> (1)\n",
      "\n",
      "Data distributions:\n",
      "   Unnamed: 0.77776            1D_Block\n",
      "   altitude.77777              1D_Block\n",
      "   cadence.77778               1D_Block\n",
      "   distance.77779              1D_Block\n",
      "   hr.77780                    1D_Block\n",
      "   latitude.77781              1D_Block\n",
      "   longitude.77782             1D_Block\n",
      "   power.77783                 1D_Block\n",
      "   speed.77784                 1D_Block\n",
      "   time.77785                  1D_Block\n",
      "   __index_level_0__.77786     1D_Block\n",
      "   $0.15.77802                 [<Distribution.OneD: 5>, <Distribution.OneD: 5>, <Distribution.OneD: 5>, <Distribution.OneD: 5>, <Distribution.OneD: 5>, <Distribution.OneD: 5>, <Distribution.OneD: 5>, <Distribution.OneD: 5>, <Distribution.OneD: 5>, <Distribution.OneD: 5>]\n",
      "   $0.23.77922                 1D_Block\n",
      "   $df.77964                   1D_Block\n",
      "   distributed_return.77845    1D_Block\n",
      "   $dist_return.77842.77965    1D_Block\n",
      "\n",
      "Parfor distributions:\n",
      "No parfors to distribute.\n",
      "\n",
      "Distributed listing for function read_pq, <ipython-input-77-cdd5d7a9c9a3> (1)\n",
      "--------------------------------------------------| parfor_id/variable: distribution\n",
      "@bodo.jit(distributed=['df'])                     | \n",
      "def read_pq():                                    | \n",
      "    df = pd.read_parquet('cycling_dataset.pq')----| Unnamed: 0.77776: 1D_Block, altitude.77777: 1D_Block, cadence.77778: 1D_Block, distance.77779: 1D_Block, hr.77780: 1D_Block, latitude.77781: 1D_Block, longitude.77782: 1D_Block, power.77783: 1D_Block, speed.77784: 1D_Block, time.77785: 1D_Block, __index_level_0__.77786: 1D_Block, $0.15.77802: [<Distribution.OneD: 5>, <Distribution.OneD: 5>, <Distribution.OneD: 5>, <Distribution.OneD: 5>, <Distribution.OneD: 5>, <Distribution.OneD: 5>, <Distribution.OneD: 5>, <Distribution.OneD: 5>, <Distribution.OneD: 5>, <Distribution.OneD: 5>], $0.23.77922: 1D_Block, $df.77964: 1D_Block\n",
      "    return df-------------------------------------| distributed_return.77845: 1D_Block\n",
      "\n",
      "\n",
      "[stdout:1] (488, 10)\n",
      "[stdout:2] (488, 10)\n",
      "[stdout:3] (488, 10)\n",
      "[stdout:4] (488, 10)\n",
      "[stdout:5] (488, 10)\n",
      "[stdout:6] (488, 10)\n",
      "[stdout:7] (486, 10)\n"
     ]
    }
   ],
   "source": [
    "%%px --block\n",
    "\n",
    "@bodo.jit(distributed=['df'])\n",
    "def read_pq():\n",
    "    df = pd.read_parquet('cycling_dataset.pq')\n",
    "    return df\n",
    "\n",
    "df = read_pq()\n",
    "print(df.shape)\n",
    "if bodo.get_rank() == 0: read_pq.distributed_diagnostics()"
   ]
  },
  {
   "cell_type": "markdown",
   "metadata": {},
   "source": [
    "In this case, all variables are assigned the `1D_Block` distribution, which means they are divided in equal chunks among processors. The returned dataframe on each processor is therefore a chunk of the full dataset. This is useful, for example, when computation on chunks is desired outside the scope of Bodo (e.g. mixing Bodo code with custom non-Bodo code and other packages like TensorFlow). In general, the `distributed` flag can be used for both passing distributed chunks as input argument, as well as returning distributed chunks."
   ]
  },
  {
   "cell_type": "code",
   "execution_count": null,
   "metadata": {},
   "outputs": [],
   "source": []
  }
 ],
 "metadata": {
  "kernelspec": {
   "display_name": "Python 3",
   "language": "python",
   "name": "python3"
  },
  "language_info": {
   "codemirror_mode": {
    "name": "ipython",
    "version": 3
   },
   "file_extension": ".py",
   "mimetype": "text/x-python",
   "name": "python",
   "nbconvert_exporter": "python",
   "pygments_lexer": "ipython3",
   "version": "3.7.5"
  }
 },
 "nbformat": 4,
 "nbformat_minor": 2
}

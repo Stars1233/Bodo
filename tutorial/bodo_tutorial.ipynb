{
 "cells": [
  {
   "cell_type": "markdown",
   "metadata": {},
   "source": [
    "# Bodo Tutorial\n",
    "Bodo is the simplest and most efficient analytics engine. Bodo accelerates and scales data science programs automatically and enables instant deployment at any scale in all environments, eliminating the need to rewrite Python analytics code to Spark/Scala, SQL or MPI/C++. This tutorial provides a comprehensive overview of Bodo usage. For more details, please visit [docs.bodo.ai](https://docs.bodo.ai).\n",
    "\n",
    "Let's get started!"
   ]
  },
  {
   "cell_type": "markdown",
   "metadata": {},
   "source": [
    "# Installation\n",
    "Bodo is just a Python package that can be installed in a Conda environment easily. Install Conda if not available. For example:\n",
    "```\n",
    "wget https://repo.continuum.io/miniconda/Miniconda3-latest-Linux-x86_64.sh -O miniconda.sh\n",
    "chmod +x miniconda.sh\n",
    "./miniconda.sh -b\n",
    "export PATH=$HOME/miniconda3/bin:$PATH\n",
    "```\n",
    "Unpack the Bodo installation package and install Bodo and its dependencies (replace *path-to-bodo-package*):\n",
    "```\n",
    "conda create -n Bodo\n",
    "source activate Bodo\n",
    "conda install bodo h5py scipy hdf5=*=*mpich* -c file:///path-to-bodo-package/bodo-inc/ -c defaults -c numba -c conda-forge\n",
    "```\n",
    "Bodo uses [MPI](https://en.wikipedia.org/wiki/Message_Passing_Interface) for parallelization, which is automatically installed as part of the conda command above. MPI can be configured on clusters easily. The cluster nodes need to have passwordless SSH enabled between them, and there should be a host file listing their addresses (example tutorial [here](https://mpitutorial.com/tutorials/running-an-mpi-cluster-within-a-lan/))."
   ]
  },
  {
   "cell_type": "markdown",
   "metadata": {},
   "source": [
    "# Bodo Basics\n",
    "## JIT Workflow\n",
    "Bodo provides a just-in-time (JIT) compilation workflow using the *@bodo.jit* decorator. It replaces the decorated Python functions with an optimized and parallelized binary version using advanced compilation methods.\n",
    "\n",
    "Bodo uses [Numba](http://numba.pydata.org/) for Python JIT workflow. The decorated function is replaced with a dispatcher object, which is compiled the first time it is called. The function is recompiled only if the argument data types change (not often in practice)."
   ]
  },
  {
   "cell_type": "code",
   "execution_count": 1,
   "metadata": {},
   "outputs": [
    {
     "name": "stdout",
     "output_type": "stream",
     "text": [
      "CPUDispatcher(<function f at 0x1285c1b00>)\n",
      "          A\n",
      "0  0.420729\n",
      "1  0.698001\n",
      "2  0.737470\n"
     ]
    }
   ],
   "source": [
    "import numpy as np\n",
    "import pandas as pd\n",
    "import bodo\n",
    "\n",
    "@bodo.jit\n",
    "def f(n):\n",
    "    return pd.DataFrame({'A': np.random.ranf(n)}).head(3)\n",
    "\n",
    "print(f)\n",
    "print(f(10))"
   ]
  },
  {
   "cell_type": "markdown",
   "metadata": {},
   "source": [
    "## Parallel Execution\n",
    "The decorator compilation optimizes the function and enables its parallelization. However, it does not launch processes or threads on the fly; i.e. no parallelism is introduced in a single Python process. Therefore, launching multiple Python processes with MPI is necessary. For example, we can save the code above in a file and use *mpiexec* to launch 4 processes:"
   ]
  },
  {
   "cell_type": "code",
   "execution_count": 2,
   "metadata": {},
   "outputs": [
    {
     "name": "stdout",
     "output_type": "stream",
     "text": [
      "The following commands were written to file `test_bodo.py`:\n",
      "import numpy as np\n",
      "import pandas as pd\n",
      "import bodo\n",
      "\n",
      "@bodo.jit\n",
      "def f(n):\n",
      "    return pd.DataFrame({'A': np.random.ranf(n)}).head(3)\n",
      "\n",
      "print(f)\n",
      "print(f(10))\n"
     ]
    }
   ],
   "source": [
    "%save -f test_bodo.py 1"
   ]
  },
  {
   "cell_type": "code",
   "execution_count": 3,
   "metadata": {},
   "outputs": [
    {
     "name": "stdout",
     "output_type": "stream",
     "text": [
      "CPUDispatcher(<function f at 0x1102cc440>)\n",
      "CPUDispatcher(<function f at 0x10e034440>)\n",
      "CPUDispatcher(<function f at 0x104c62440>)\n",
      "CPUDispatcher(<function f at 0x107de0440>)\n",
      "          A\n",
      "0  0.869048\n",
      "1  0.961288\n",
      "2  0.701246\n",
      "          A\n",
      "0  0.869048\n",
      "1  0.961288\n",
      "2  0.701246\n",
      "          A\n",
      "0  0.869048\n",
      "1  0.961288\n",
      "2  0.701246\n",
      "          A\n",
      "0  0.869048\n",
      "1  0.961288\n",
      "2  0.701246\n"
     ]
    }
   ],
   "source": [
    "!mpiexec -n 4 python test_bodo.py"
   ]
  },
  {
   "cell_type": "markdown",
   "metadata": {},
   "source": [
    "In this example, 4 Python processes are launched and function `f` is parallelized on 4 cores. The same workflow can be used to parallelize programs on a small laptop, all the way to millions of processor cores in the cloud!"
   ]
  },
  {
   "cell_type": "markdown",
   "metadata": {},
   "source": [
    "### Parallel Execution in Jupyter Notebook\n",
    "Bodo code can run in parallel inside a notebook using the [ipyparallel](https://ipyparallel.readthedocs.io/en/latest/) package. First, install the necessary packages:\n",
    "```\n",
    "conda install jupyter ipyparallel\n",
    "conda install mpi4py -c conda-forge --no-deps\n",
    "```\n",
    "Create an MPI profile for ipython:\n",
    "```\n",
    "ipython profile create --parallel --profile=mpi\n",
    "```\n",
    "Edit the ~/.ipython/profile_mpi/ipython_config.py file and add the following line:\n",
    "```\n",
    "c.IPClusterEngines.engine_launcher_class = 'MPIEngineSetLauncher'\n",
    "```\n",
    "Launch the execution engines in another terminal (this can take several seconds):\n",
    "```\n",
    "ipcluster start -n 8 –profile=mpi\n",
    "```\n",
    "\n",
    "Now run this code in a cell to setup the environment:"
   ]
  },
  {
   "cell_type": "code",
   "execution_count": 4,
   "metadata": {},
   "outputs": [],
   "source": [
    "import ipyparallel as ipp\n",
    "c = ipp.Client(profile='mpi')\n",
    "view = c[:]\n",
    "view.activate()"
   ]
  },
  {
   "cell_type": "markdown",
   "metadata": {},
   "source": [
    "After connecting the notebook to the execution engines, cells with the `%%px --block` magic will run on the engines:"
   ]
  },
  {
   "cell_type": "code",
   "execution_count": 5,
   "metadata": {},
   "outputs": [
    {
     "name": "stdout",
     "output_type": "stream",
     "text": [
      "[stdout:0] \n",
      "          A\n",
      "0  0.353618\n",
      "1  0.428225\n",
      "2  0.772479\n",
      "[stdout:1] \n",
      "          A\n",
      "0  0.353618\n",
      "1  0.428225\n",
      "2  0.772479\n",
      "[stdout:2] \n",
      "          A\n",
      "0  0.353618\n",
      "1  0.428225\n",
      "2  0.772479\n",
      "[stdout:3] \n",
      "          A\n",
      "0  0.353618\n",
      "1  0.428225\n",
      "2  0.772479\n",
      "[stdout:4] \n",
      "          A\n",
      "0  0.353618\n",
      "1  0.428225\n",
      "2  0.772479\n",
      "[stdout:5] \n",
      "          A\n",
      "0  0.353618\n",
      "1  0.428225\n",
      "2  0.772479\n",
      "[stdout:6] \n",
      "          A\n",
      "0  0.353618\n",
      "1  0.428225\n",
      "2  0.772479\n",
      "[stdout:7] \n",
      "          A\n",
      "0  0.353618\n",
      "1  0.428225\n",
      "2  0.772479\n"
     ]
    }
   ],
   "source": [
    "%%px --block\n",
    "\n",
    "import numpy as np\n",
    "import pandas as pd\n",
    "import bodo\n",
    "\n",
    "@bodo.jit\n",
    "def f(n):\n",
    "    return pd.DataFrame({'A': np.random.ranf(n)}).head(3)\n",
    "\n",
    "print(f(10))"
   ]
  },
  {
   "cell_type": "markdown",
   "metadata": {},
   "source": [
    "### Automatic Distribution\n",
    "Bodo automatically distributes data and computation of the target function among parallel processes by analyzing it for parallelization. It chooses the best and *safest* possible distribution. For example, returning distributed data is not necessary *safe*, since the code outside of the bodo scope would need to handle chunks of data instead of the full data. Consider the example below:"
   ]
  },
  {
   "cell_type": "code",
   "execution_count": 6,
   "metadata": {},
   "outputs": [
    {
     "name": "stdout",
     "output_type": "stream",
     "text": [
      "[stdout:0] (3902, 10)\n",
      "[stdout:1] (3902, 10)\n",
      "[stdout:2] (3902, 10)\n",
      "[stdout:3] (3902, 10)\n",
      "[stdout:4] (3902, 10)\n",
      "[stdout:5] (3902, 10)\n",
      "[stdout:6] (3902, 10)\n",
      "[stdout:7] (3902, 10)\n"
     ]
    },
    {
     "name": "stderr",
     "output_type": "stream",
     "text": [
      "[stderr:0] \n",
      "/Users/ehsan/dev/bodo/bodo/transforms/distributed_analysis.py:240: BodoWarning: No parallelism found for function 'read_pq'. This could be due to unsupported usage. See distributed diagnostics for more information.\n",
      "  \"information.\".format(self.func_ir.func_id.func_name)\n"
     ]
    }
   ],
   "source": [
    "%%px --block\n",
    "import bodo\n",
    "\n",
    "@bodo.jit\n",
    "def read_pq():\n",
    "    df = pd.read_parquet('cycling_dataset.pq')\n",
    "    return df\n",
    "\n",
    "df = read_pq()\n",
    "print(df.shape)"
   ]
  },
  {
   "cell_type": "markdown",
   "metadata": {},
   "source": [
    "In this example, a dataframe is return from a jit function to regular Python environment, which prevents parallelism for the whole function. The `BodoWarning` above indicates this lack of parallelism. To get more information about distributions, one can use the `distributed_diagnostics` function which prints diagnostics information about distribution analysis by Bodo:"
   ]
  },
  {
   "cell_type": "code",
   "execution_count": 7,
   "metadata": {},
   "outputs": [
    {
     "name": "stdout",
     "output_type": "stream",
     "text": [
      "[stdout:0] \n",
      "Distributed diagnostics for function read_pq, <ipython-input-53-d814eeba1b83> (3)\n",
      "\n",
      "Data distributions:\n",
      "   Unnamed: 0.50609           REP\n",
      "   altitude.50610             REP\n",
      "   cadence.50611              REP\n",
      "   distance.50612             REP\n",
      "   hr.50613                   REP\n",
      "   latitude.50614             REP\n",
      "   longitude.50615            REP\n",
      "   power.50616                REP\n",
      "   speed.50617                REP\n",
      "   time.50618                 REP\n",
      "   __index_level_0__.50619    REP\n",
      "   $0.15.50635                [<Distribution.REP: 1>, <Distribution.REP: 1>, <Distribution.REP: 1>, <Distribution.REP: 1>, <Distribution.REP: 1>, <Distribution.REP: 1>, <Distribution.REP: 1>, <Distribution.REP: 1>, <Distribution.REP: 1>, <Distribution.REP: 1>]\n",
      "   $0.23.50745                REP\n",
      "   $df.50784                  REP\n",
      "   $0.6                       REP\n",
      "\n",
      "Parfor distributions:\n",
      "No parfors to distribute.\n",
      "\n",
      "Distributed listing for function read_pq, <ipython-input-53-d814eeba1b83> (3)\n",
      "--------------------------------------------------| parfor_id/variable: distribution\n",
      "@bodo.jit                                         | \n",
      "def read_pq():                                    | \n",
      "    df = pd.read_parquet('cycling_dataset.pq')----| Unnamed: 0.50609: REP, altitude.50610: REP, cadence.50611: REP, distance.50612: REP, hr.50613: REP, latitude.50614: REP, longitude.50615: REP, power.50616: REP, speed.50617: REP, time.50618: REP, __index_level_0__.50619: REP, $0.15.50635: [<Distribution.REP: 1>, <Distribution.REP: 1>, <Distribution.REP: 1>, <Distribution.REP: 1>, <Distribution.REP: 1>, <Distribution.REP: 1>, <Distribution.REP: 1>, <Distribution.REP: 1>, <Distribution.REP: 1>, <Distribution.REP: 1>], $0.23.50745: REP, $df.50784: REP\n",
      "    return df-------------------------------------| $0.6: REP\n",
      "\n",
      "Distributed analysis replicated output variable $0.6. Set distributed flag for the original variable if distributed partitions should be returned.\n",
      "\n"
     ]
    }
   ],
   "source": [
    "%%px --block\n",
    "read_pq.distributed_diagnostics()"
   ]
  },
  {
   "cell_type": "markdown",
   "metadata": {},
   "source": [
    "In this case, all variables are assigned the `REP` distribution, which means they are replicated and there is no distribution of data. The reason is the return of `df`, which also propagates `REP` to all other variables since they are involved in computation with `df`.\n",
    "\n",
    "We can change this behavior by a simple annotation for `df`:"
   ]
  },
  {
   "cell_type": "code",
   "execution_count": 8,
   "metadata": {},
   "outputs": [
    {
     "name": "stdout",
     "output_type": "stream",
     "text": [
      "[stdout:0] \n",
      "(488, 10)\n",
      "Distributed diagnostics for function read_pq, <ipython-input-55-dda0820ca7f5> (1)\n",
      "\n",
      "Data distributions:\n",
      "   Unnamed: 0.50982            1D_Block\n",
      "   altitude.50983              1D_Block\n",
      "   cadence.50984               1D_Block\n",
      "   distance.50985              1D_Block\n",
      "   hr.50986                    1D_Block\n",
      "   latitude.50987              1D_Block\n",
      "   longitude.50988             1D_Block\n",
      "   power.50989                 1D_Block\n",
      "   speed.50990                 1D_Block\n",
      "   time.50991                  1D_Block\n",
      "   __index_level_0__.50992     1D_Block\n",
      "   $0.15.51008                 [<Distribution.OneD: 5>, <Distribution.OneD: 5>, <Distribution.OneD: 5>, <Distribution.OneD: 5>, <Distribution.OneD: 5>, <Distribution.OneD: 5>, <Distribution.OneD: 5>, <Distribution.OneD: 5>, <Distribution.OneD: 5>, <Distribution.OneD: 5>]\n",
      "   $0.23.51128                 1D_Block\n",
      "   $df.51170                   1D_Block\n",
      "   distributed_return.51051    1D_Block\n",
      "   $dist_return.51048.51171    1D_Block\n",
      "\n",
      "Parfor distributions:\n",
      "No parfors to distribute.\n",
      "\n",
      "Distributed listing for function read_pq, <ipython-input-55-dda0820ca7f5> (1)\n",
      "--------------------------------------------------| parfor_id/variable: distribution\n",
      "@bodo.jit(distributed=['df'])                     | \n",
      "def read_pq():                                    | \n",
      "    df = pd.read_parquet('cycling_dataset.pq')----| Unnamed: 0.50982: 1D_Block, altitude.50983: 1D_Block, cadence.50984: 1D_Block, distance.50985: 1D_Block, hr.50986: 1D_Block, latitude.50987: 1D_Block, longitude.50988: 1D_Block, power.50989: 1D_Block, speed.50990: 1D_Block, time.50991: 1D_Block, __index_level_0__.50992: 1D_Block, $0.15.51008: [<Distribution.OneD: 5>, <Distribution.OneD: 5>, <Distribution.OneD: 5>, <Distribution.OneD: 5>, <Distribution.OneD: 5>, <Distribution.OneD: 5>, <Distribution.OneD: 5>, <Distribution.OneD: 5>, <Distribution.OneD: 5>, <Distribution.OneD: 5>], $0.23.51128: 1D_Block, $df.51170: 1D_Block\n",
      "    return df-------------------------------------| distributed_return.51051: 1D_Block\n",
      "\n",
      "\n",
      "[stdout:1] (488, 10)\n",
      "[stdout:2] (488, 10)\n",
      "[stdout:3] (488, 10)\n",
      "[stdout:4] (488, 10)\n",
      "[stdout:5] (488, 10)\n",
      "[stdout:6] (488, 10)\n",
      "[stdout:7] (486, 10)\n"
     ]
    }
   ],
   "source": [
    "%%px --block\n",
    "\n",
    "@bodo.jit(distributed=['df'])\n",
    "def read_pq():\n",
    "    df = pd.read_parquet('cycling_dataset.pq')\n",
    "    return df\n",
    "\n",
    "df = read_pq()\n",
    "print(df.shape)\n",
    "read_pq.distributed_diagnostics()"
   ]
  },
  {
   "cell_type": "markdown",
   "metadata": {},
   "source": [
    "In this case, all variables are assigned the `1D_Block` distribution, which means they are divided in equal chunks among processors. The returned dataframe on each processor is therefore a chunk of the full dataset. This is useful, for example, when computation on chunks is desired outside the scope of Bodo (e.g. mixing Bodo code with custom non-Bodo code and other packages like TensorFlow). In general, the `distributed` flag can be used for both passing distributed chunks as input argument, as well as returning distributed chunks."
   ]
  },
  {
   "cell_type": "markdown",
   "metadata": {},
   "source": [
    "### Parallel Print\n",
    "Bodo limits `print` calls in parallelized jit functions to only one copy (instead of one copy per process) to avoid overwhelming amount of output printing. Also, the input arguments of `print` are not parallelized to avoid confusion. One can use `bodo.parallel_print` to change this behavior and even print chunks of data on different processors if necessary:"
   ]
  },
  {
   "cell_type": "code",
   "execution_count": 9,
   "metadata": {},
   "outputs": [
    {
     "name": "stdout",
     "output_type": "stream",
     "text": [
      "[stdout:0] \n",
      "A [0 1 2 3 4 5 6 7]\n",
      "B [0]\n",
      "[stdout:1] B [1]\n",
      "[stdout:2] B [2]\n",
      "[stdout:3] B [3]\n",
      "[stdout:4] B [4]\n",
      "[stdout:5] B [5]\n",
      "[stdout:6] B [6]\n",
      "[stdout:7] B [7]\n"
     ]
    }
   ],
   "source": [
    "%%px --block\n",
    "\n",
    "@bodo.jit(distributed=['df'])\n",
    "def test_print(n):\n",
    "    A = np.arange(n)\n",
    "    B = np.arange(n)\n",
    "    print(\"A\", A)\n",
    "    bodo.parallel_print(\"B\", B)\n",
    "\n",
    "test_print(8)"
   ]
  },
  {
   "cell_type": "markdown",
   "metadata": {},
   "source": [
    "### Parallel APIs\n",
    "Bodo provides a limited number of parallel APIs to support advanced cases that may need them.\n",
    "\n",
    "* bodo.get_rank() Get the rank of the process (same as MPI_Comm_rank).\n",
    "* bodo.get_size() Get the number of processes (same as MPI_Comm_size).\n",
    "* bodo.barrier() Blocks until all processes have reached this call (same as MPI_Barrier).\n",
    "* bodo.gatherv() Gathers all data chunks into process 0 (same as MPI_Gatherv).\n",
    "* bodo.allgatherv() Gathers all data chunks and delivers to all processes (same as MPI_Allgatherv)."
   ]
  },
  {
   "cell_type": "markdown",
   "metadata": {},
   "source": [
    "# Parallel I/O\n",
    "<img style=\"float: right;\" src=\"img/file-read.jpg\">\n",
    "\n",
    "Efficient parallel data processing requries data I/O to be parallelized effectively as well. Bodo provides parallel file I/O for different formats such as [Parquet](http://parquet.apache.org),\n",
    "CSV, Numpy binaries and [HDF5](http://www.h5py.org). This diagram demonstrates how chunks of data are partitioned among execution engines by Bodo."
   ]
  },
  {
   "cell_type": "markdown",
   "metadata": {},
   "source": [
    "## Parquet\n",
    "Parquet is a commonly used file format in analytics due to its efficient columnar storage. Bodo supports standard Pandas API for reading Parquet:"
   ]
  },
  {
   "cell_type": "code",
   "execution_count": 10,
   "metadata": {},
   "outputs": [
    {
     "data": {
      "text/plain": [
       "[output:0]"
      ]
     },
     "metadata": {},
     "output_type": "display_data"
    },
    {
     "data": {
      "text/html": [
       "<div>\n",
       "<style scoped>\n",
       "    .dataframe tbody tr th:only-of-type {\n",
       "        vertical-align: middle;\n",
       "    }\n",
       "\n",
       "    .dataframe tbody tr th {\n",
       "        vertical-align: top;\n",
       "    }\n",
       "\n",
       "    .dataframe thead th {\n",
       "        text-align: right;\n",
       "    }\n",
       "</style>\n",
       "<table border=\"1\" class=\"dataframe\">\n",
       "  <thead>\n",
       "    <tr style=\"text-align: right;\">\n",
       "      <th></th>\n",
       "      <th>Unnamed: 0</th>\n",
       "      <th>altitude</th>\n",
       "      <th>cadence</th>\n",
       "      <th>distance</th>\n",
       "      <th>hr</th>\n",
       "      <th>latitude</th>\n",
       "      <th>longitude</th>\n",
       "      <th>power</th>\n",
       "      <th>speed</th>\n",
       "      <th>time</th>\n",
       "    </tr>\n",
       "  </thead>\n",
       "  <tbody>\n",
       "    <tr>\n",
       "      <th>0</th>\n",
       "      <td>0</td>\n",
       "      <td>185.800003</td>\n",
       "      <td>51</td>\n",
       "      <td>3.46</td>\n",
       "      <td>81</td>\n",
       "      <td>30.313309</td>\n",
       "      <td>-97.732711</td>\n",
       "      <td>45</td>\n",
       "      <td>3.459</td>\n",
       "      <td>2016-10-20 22:01:26</td>\n",
       "    </tr>\n",
       "    <tr>\n",
       "      <th>1</th>\n",
       "      <td>1</td>\n",
       "      <td>185.800003</td>\n",
       "      <td>68</td>\n",
       "      <td>7.17</td>\n",
       "      <td>82</td>\n",
       "      <td>30.313277</td>\n",
       "      <td>-97.732715</td>\n",
       "      <td>0</td>\n",
       "      <td>3.710</td>\n",
       "      <td>2016-10-20 22:01:27</td>\n",
       "    </tr>\n",
       "    <tr>\n",
       "      <th>2</th>\n",
       "      <td>2</td>\n",
       "      <td>186.399994</td>\n",
       "      <td>38</td>\n",
       "      <td>11.04</td>\n",
       "      <td>82</td>\n",
       "      <td>30.313243</td>\n",
       "      <td>-97.732717</td>\n",
       "      <td>42</td>\n",
       "      <td>3.874</td>\n",
       "      <td>2016-10-20 22:01:28</td>\n",
       "    </tr>\n",
       "    <tr>\n",
       "      <th>3</th>\n",
       "      <td>3</td>\n",
       "      <td>186.800003</td>\n",
       "      <td>38</td>\n",
       "      <td>15.18</td>\n",
       "      <td>83</td>\n",
       "      <td>30.313212</td>\n",
       "      <td>-97.732720</td>\n",
       "      <td>5</td>\n",
       "      <td>4.135</td>\n",
       "      <td>2016-10-20 22:01:29</td>\n",
       "    </tr>\n",
       "    <tr>\n",
       "      <th>4</th>\n",
       "      <td>4</td>\n",
       "      <td>186.600006</td>\n",
       "      <td>38</td>\n",
       "      <td>19.43</td>\n",
       "      <td>83</td>\n",
       "      <td>30.313172</td>\n",
       "      <td>-97.732723</td>\n",
       "      <td>1</td>\n",
       "      <td>4.250</td>\n",
       "      <td>2016-10-20 22:01:30</td>\n",
       "    </tr>\n",
       "  </tbody>\n",
       "</table>\n",
       "</div>"
      ],
      "text/plain": [
       "   Unnamed: 0    altitude  cadence  distance  hr   latitude  longitude  power  \\\n",
       "0           0  185.800003       51      3.46  81  30.313309 -97.732711     45   \n",
       "1           1  185.800003       68      7.17  82  30.313277 -97.732715      0   \n",
       "2           2  186.399994       38     11.04  82  30.313243 -97.732717     42   \n",
       "3           3  186.800003       38     15.18  83  30.313212 -97.732720      5   \n",
       "4           4  186.600006       38     19.43  83  30.313172 -97.732723      1   \n",
       "\n",
       "   speed                time  \n",
       "0  3.459 2016-10-20 22:01:26  \n",
       "1  3.710 2016-10-20 22:01:27  \n",
       "2  3.874 2016-10-20 22:01:28  \n",
       "3  4.135 2016-10-20 22:01:29  \n",
       "4  4.250 2016-10-20 22:01:30  "
      ]
     },
     "metadata": {
      "engine": 0
     },
     "output_type": "display_data"
    }
   ],
   "source": [
    "%%px --block\n",
    "from IPython.display import display\n",
    "\n",
    "@bodo.jit\n",
    "def pq_read():\n",
    "    df = pd.read_parquet('cycling_dataset.pq')\n",
    "    return df.head()\n",
    "\n",
    "res = pq_read()\n",
    "if bodo.get_rank() == 0: display(res)  # display results only once"
   ]
  },
  {
   "cell_type": "markdown",
   "metadata": {},
   "source": [
    "Bodo parallelizes `pd.read_parquet` and reads equal chunks of dataframe data into the engines. Hence, the returned `df` dataframe is fully distributed and ready for scalable computation."
   ]
  },
  {
   "cell_type": "markdown",
   "metadata": {},
   "source": [
    "The file name is a constant value in the example above, which allows Bodo to infer types automatically by looking at the file during compilation time. However, type annotation is required if the file name is not constant:"
   ]
  },
  {
   "cell_type": "code",
   "execution_count": 11,
   "metadata": {},
   "outputs": [
    {
     "data": {
      "text/plain": [
       "[output:0]"
      ]
     },
     "metadata": {},
     "output_type": "display_data"
    },
    {
     "data": {
      "text/html": [
       "<div>\n",
       "<style scoped>\n",
       "    .dataframe tbody tr th:only-of-type {\n",
       "        vertical-align: middle;\n",
       "    }\n",
       "\n",
       "    .dataframe tbody tr th {\n",
       "        vertical-align: top;\n",
       "    }\n",
       "\n",
       "    .dataframe thead th {\n",
       "        text-align: right;\n",
       "    }\n",
       "</style>\n",
       "<table border=\"1\" class=\"dataframe\">\n",
       "  <thead>\n",
       "    <tr style=\"text-align: right;\">\n",
       "      <th></th>\n",
       "      <th>altitude</th>\n",
       "      <th>cadence</th>\n",
       "      <th>distance</th>\n",
       "      <th>hr</th>\n",
       "      <th>latitude</th>\n",
       "      <th>longitude</th>\n",
       "      <th>power</th>\n",
       "      <th>speed</th>\n",
       "      <th>time</th>\n",
       "    </tr>\n",
       "  </thead>\n",
       "  <tbody>\n",
       "    <tr>\n",
       "      <th>0</th>\n",
       "      <td>0.0</td>\n",
       "      <td>185</td>\n",
       "      <td>51.0</td>\n",
       "      <td>3</td>\n",
       "      <td>81.0</td>\n",
       "      <td>30.313309</td>\n",
       "      <td>-97</td>\n",
       "      <td>45.0</td>\n",
       "      <td>1850-10-18 22:23:32.420013003</td>\n",
       "    </tr>\n",
       "    <tr>\n",
       "      <th>1</th>\n",
       "      <td>1.0</td>\n",
       "      <td>185</td>\n",
       "      <td>68.0</td>\n",
       "      <td>7</td>\n",
       "      <td>82.0</td>\n",
       "      <td>30.313277</td>\n",
       "      <td>-97</td>\n",
       "      <td>0.0</td>\n",
       "      <td>1850-10-18 22:23:32.420013003</td>\n",
       "    </tr>\n",
       "    <tr>\n",
       "      <th>2</th>\n",
       "      <td>2.0</td>\n",
       "      <td>186</td>\n",
       "      <td>38.0</td>\n",
       "      <td>11</td>\n",
       "      <td>82.0</td>\n",
       "      <td>30.313243</td>\n",
       "      <td>-97</td>\n",
       "      <td>42.0</td>\n",
       "      <td>1850-10-18 22:23:32.420013003</td>\n",
       "    </tr>\n",
       "    <tr>\n",
       "      <th>3</th>\n",
       "      <td>3.0</td>\n",
       "      <td>186</td>\n",
       "      <td>38.0</td>\n",
       "      <td>15</td>\n",
       "      <td>83.0</td>\n",
       "      <td>30.313212</td>\n",
       "      <td>-97</td>\n",
       "      <td>5.0</td>\n",
       "      <td>1850-10-18 22:23:32.420013003</td>\n",
       "    </tr>\n",
       "    <tr>\n",
       "      <th>4</th>\n",
       "      <td>4.0</td>\n",
       "      <td>186</td>\n",
       "      <td>38.0</td>\n",
       "      <td>19</td>\n",
       "      <td>83.0</td>\n",
       "      <td>30.313172</td>\n",
       "      <td>-97</td>\n",
       "      <td>1.0</td>\n",
       "      <td>1850-10-18 22:23:32.420013003</td>\n",
       "    </tr>\n",
       "  </tbody>\n",
       "</table>\n",
       "</div>"
      ],
      "text/plain": [
       "   altitude  cadence  distance  hr  latitude  longitude  power  speed  \\\n",
       "0       0.0      185      51.0   3      81.0  30.313309    -97   45.0   \n",
       "1       1.0      185      68.0   7      82.0  30.313277    -97    0.0   \n",
       "2       2.0      186      38.0  11      82.0  30.313243    -97   42.0   \n",
       "3       3.0      186      38.0  15      83.0  30.313212    -97    5.0   \n",
       "4       4.0      186      38.0  19      83.0  30.313172    -97    1.0   \n",
       "\n",
       "                           time  \n",
       "0 1850-10-18 22:23:32.420013003  \n",
       "1 1850-10-18 22:23:32.420013003  \n",
       "2 1850-10-18 22:23:32.420013003  \n",
       "3 1850-10-18 22:23:32.420013003  \n",
       "4 1850-10-18 22:23:32.420013003  "
      ]
     },
     "metadata": {
      "engine": 0
     },
     "output_type": "display_data"
    }
   ],
   "source": [
    "%%px --block\n",
    "from IPython.display import display\n",
    "\n",
    "@bodo.jit(locals={'df':{'altitude': bodo.float64[:],\n",
    "                  'cadence': bodo.int64[:],\n",
    "                  'distance': bodo.float64[:],\n",
    "                  'hr': bodo.int64[:],\n",
    "                  'latitude': bodo.float64[:],\n",
    "                  'longitude': bodo.float64[:],\n",
    "                  'power': bodo.int64[:],\n",
    "                  'speed': bodo.float64[:],\n",
    "                  'time': bodo.datetime64ns[:],\n",
    "                  }})\n",
    "def pq_read(file_name):\n",
    "    df = pd.read_parquet(file_name)\n",
    "    return df.head()\n",
    "\n",
    "res = pq_read('cycling_dataset.pq')\n",
    "if bodo.get_rank() == 0: display(res)"
   ]
  },
  {
   "cell_type": "markdown",
   "metadata": {},
   "source": [
    "## CSV\n",
    "CSV files are commonly used since text format can be easier to use. Bodo supports standard Pandas API for reading CSV files:"
   ]
  },
  {
   "cell_type": "code",
   "execution_count": 12,
   "metadata": {},
   "outputs": [
    {
     "data": {
      "text/plain": [
       "[output:0]"
      ]
     },
     "metadata": {},
     "output_type": "display_data"
    },
    {
     "data": {
      "text/html": [
       "<div>\n",
       "<style scoped>\n",
       "    .dataframe tbody tr th:only-of-type {\n",
       "        vertical-align: middle;\n",
       "    }\n",
       "\n",
       "    .dataframe tbody tr th {\n",
       "        vertical-align: top;\n",
       "    }\n",
       "\n",
       "    .dataframe thead th {\n",
       "        text-align: right;\n",
       "    }\n",
       "</style>\n",
       "<table border=\"1\" class=\"dataframe\">\n",
       "  <thead>\n",
       "    <tr style=\"text-align: right;\">\n",
       "      <th></th>\n",
       "      <th>0</th>\n",
       "      <th>0.1</th>\n",
       "      <th>185.8000030517578</th>\n",
       "      <th>51</th>\n",
       "      <th>3.4600000381469727</th>\n",
       "      <th>81</th>\n",
       "      <th>30.31330947764218</th>\n",
       "      <th>-97.73271068930626</th>\n",
       "      <th>45</th>\n",
       "      <th>3.4590001106262207</th>\n",
       "      <th>2016-10-20 22:01:26</th>\n",
       "    </tr>\n",
       "  </thead>\n",
       "  <tbody>\n",
       "    <tr>\n",
       "      <th>0</th>\n",
       "      <td>1</td>\n",
       "      <td>1</td>\n",
       "      <td>185.800003</td>\n",
       "      <td>68</td>\n",
       "      <td>7.170000</td>\n",
       "      <td>82</td>\n",
       "      <td>30.313277</td>\n",
       "      <td>-97.732715</td>\n",
       "      <td>0</td>\n",
       "      <td>3.710</td>\n",
       "      <td>2016-10-20 22:01:27</td>\n",
       "    </tr>\n",
       "    <tr>\n",
       "      <th>1</th>\n",
       "      <td>2</td>\n",
       "      <td>2</td>\n",
       "      <td>186.399994</td>\n",
       "      <td>38</td>\n",
       "      <td>11.040000</td>\n",
       "      <td>82</td>\n",
       "      <td>30.313243</td>\n",
       "      <td>-97.732717</td>\n",
       "      <td>42</td>\n",
       "      <td>3.874</td>\n",
       "      <td>2016-10-20 22:01:28</td>\n",
       "    </tr>\n",
       "    <tr>\n",
       "      <th>2</th>\n",
       "      <td>3</td>\n",
       "      <td>3</td>\n",
       "      <td>186.800003</td>\n",
       "      <td>38</td>\n",
       "      <td>15.180000</td>\n",
       "      <td>83</td>\n",
       "      <td>30.313212</td>\n",
       "      <td>-97.732720</td>\n",
       "      <td>5</td>\n",
       "      <td>4.135</td>\n",
       "      <td>2016-10-20 22:01:29</td>\n",
       "    </tr>\n",
       "    <tr>\n",
       "      <th>3</th>\n",
       "      <td>4</td>\n",
       "      <td>4</td>\n",
       "      <td>186.600006</td>\n",
       "      <td>38</td>\n",
       "      <td>19.430000</td>\n",
       "      <td>83</td>\n",
       "      <td>30.313172</td>\n",
       "      <td>-97.732723</td>\n",
       "      <td>1</td>\n",
       "      <td>4.250</td>\n",
       "      <td>2016-10-20 22:01:30</td>\n",
       "    </tr>\n",
       "    <tr>\n",
       "      <th>4</th>\n",
       "      <td>5</td>\n",
       "      <td>5</td>\n",
       "      <td>186.600006</td>\n",
       "      <td>0</td>\n",
       "      <td>23.860001</td>\n",
       "      <td>84</td>\n",
       "      <td>30.313130</td>\n",
       "      <td>-97.732724</td>\n",
       "      <td>0</td>\n",
       "      <td>4.435</td>\n",
       "      <td>2016-10-20 22:01:31</td>\n",
       "    </tr>\n",
       "  </tbody>\n",
       "</table>\n",
       "</div>"
      ],
      "text/plain": [
       "   0  0.1  185.8000030517578  51  3.4600000381469727  81  30.31330947764218  \\\n",
       "0  1    1         185.800003  68            7.170000  82          30.313277   \n",
       "1  2    2         186.399994  38           11.040000  82          30.313243   \n",
       "2  3    3         186.800003  38           15.180000  83          30.313212   \n",
       "3  4    4         186.600006  38           19.430000  83          30.313172   \n",
       "4  5    5         186.600006   0           23.860001  84          30.313130   \n",
       "\n",
       "   -97.73271068930626  45  3.4590001106262207  2016-10-20 22:01:26  \n",
       "0          -97.732715   0               3.710  2016-10-20 22:01:27  \n",
       "1          -97.732717  42               3.874  2016-10-20 22:01:28  \n",
       "2          -97.732720   5               4.135  2016-10-20 22:01:29  \n",
       "3          -97.732723   1               4.250  2016-10-20 22:01:30  \n",
       "4          -97.732724   0               4.435  2016-10-20 22:01:31  "
      ]
     },
     "metadata": {
      "engine": 0
     },
     "output_type": "display_data"
    }
   ],
   "source": [
    "%%px --block\n",
    "\n",
    "@bodo.jit\n",
    "def csv_example():\n",
    "    df = pd.read_csv('cycling_dataset.csv')\n",
    "    return df.head()\n",
    "\n",
    "res = csv_example()\n",
    "if bodo.get_rank() == 0: display(res)"
   ]
  },
  {
   "cell_type": "markdown",
   "metadata": {},
   "source": [
    "If file name is not constant, standard Pandas type annotation can be used to specify types for Bodo:"
   ]
  },
  {
   "cell_type": "code",
   "execution_count": 13,
   "metadata": {},
   "outputs": [
    {
     "data": {
      "text/plain": [
       "[output:0]"
      ]
     },
     "metadata": {},
     "output_type": "display_data"
    },
    {
     "data": {
      "text/html": [
       "<div>\n",
       "<style scoped>\n",
       "    .dataframe tbody tr th:only-of-type {\n",
       "        vertical-align: middle;\n",
       "    }\n",
       "\n",
       "    .dataframe tbody tr th {\n",
       "        vertical-align: top;\n",
       "    }\n",
       "\n",
       "    .dataframe thead th {\n",
       "        text-align: right;\n",
       "    }\n",
       "</style>\n",
       "<table border=\"1\" class=\"dataframe\">\n",
       "  <thead>\n",
       "    <tr style=\"text-align: right;\">\n",
       "      <th></th>\n",
       "      <th>altitude</th>\n",
       "      <th>cadence</th>\n",
       "      <th>distance</th>\n",
       "      <th>hr</th>\n",
       "      <th>latitude</th>\n",
       "      <th>longitude</th>\n",
       "      <th>power</th>\n",
       "      <th>speed</th>\n",
       "      <th>time</th>\n",
       "    </tr>\n",
       "  </thead>\n",
       "  <tbody>\n",
       "    <tr>\n",
       "      <th>0</th>\n",
       "      <td>0.0</td>\n",
       "      <td>0.0</td>\n",
       "      <td>185.800003</td>\n",
       "      <td>51.0</td>\n",
       "      <td>3.46</td>\n",
       "      <td>81.0</td>\n",
       "      <td>30.313309</td>\n",
       "      <td>-97.732711</td>\n",
       "      <td>45</td>\n",
       "    </tr>\n",
       "    <tr>\n",
       "      <th>1</th>\n",
       "      <td>1.0</td>\n",
       "      <td>1.0</td>\n",
       "      <td>185.800003</td>\n",
       "      <td>68.0</td>\n",
       "      <td>7.17</td>\n",
       "      <td>82.0</td>\n",
       "      <td>30.313277</td>\n",
       "      <td>-97.732715</td>\n",
       "      <td>0</td>\n",
       "    </tr>\n",
       "    <tr>\n",
       "      <th>2</th>\n",
       "      <td>2.0</td>\n",
       "      <td>2.0</td>\n",
       "      <td>186.399994</td>\n",
       "      <td>38.0</td>\n",
       "      <td>11.04</td>\n",
       "      <td>82.0</td>\n",
       "      <td>30.313243</td>\n",
       "      <td>-97.732717</td>\n",
       "      <td>42</td>\n",
       "    </tr>\n",
       "    <tr>\n",
       "      <th>3</th>\n",
       "      <td>3.0</td>\n",
       "      <td>3.0</td>\n",
       "      <td>186.800003</td>\n",
       "      <td>38.0</td>\n",
       "      <td>15.18</td>\n",
       "      <td>83.0</td>\n",
       "      <td>30.313212</td>\n",
       "      <td>-97.732720</td>\n",
       "      <td>5</td>\n",
       "    </tr>\n",
       "    <tr>\n",
       "      <th>4</th>\n",
       "      <td>4.0</td>\n",
       "      <td>4.0</td>\n",
       "      <td>186.600006</td>\n",
       "      <td>38.0</td>\n",
       "      <td>19.43</td>\n",
       "      <td>83.0</td>\n",
       "      <td>30.313172</td>\n",
       "      <td>-97.732723</td>\n",
       "      <td>1</td>\n",
       "    </tr>\n",
       "  </tbody>\n",
       "</table>\n",
       "</div>"
      ],
      "text/plain": [
       "   altitude  cadence    distance    hr  latitude  longitude      power  \\\n",
       "0       0.0      0.0  185.800003  51.0      3.46       81.0  30.313309   \n",
       "1       1.0      1.0  185.800003  68.0      7.17       82.0  30.313277   \n",
       "2       2.0      2.0  186.399994  38.0     11.04       82.0  30.313243   \n",
       "3       3.0      3.0  186.800003  38.0     15.18       83.0  30.313212   \n",
       "4       4.0      4.0  186.600006  38.0     19.43       83.0  30.313172   \n",
       "\n",
       "       speed time  \n",
       "0 -97.732711   45  \n",
       "1 -97.732715    0  \n",
       "2 -97.732717   42  \n",
       "3 -97.732720    5  \n",
       "4 -97.732723    1  "
      ]
     },
     "metadata": {
      "engine": 0
     },
     "output_type": "display_data"
    }
   ],
   "source": [
    "%%px --block\n",
    "\n",
    "@bodo.jit\n",
    "def csv_example(fname):\n",
    "    coltypes = {'altitude': np.float64,\n",
    "                'cadence': np.float64,\n",
    "                'distance': np.float64,\n",
    "                'hr': np.float64,\n",
    "                'latitude': np.float64,\n",
    "                'longitude': np.float64,\n",
    "                'power': np.float64,\n",
    "                'speed': np.float64,\n",
    "                'time': str}\n",
    "    df = pd.read_csv(fname, names=coltypes.keys(), dtype=coltypes)\n",
    "    return df.head()\n",
    "\n",
    "fname = 'cycling_dataset.csv'\n",
    "res = csv_example(fname)\n",
    "if bodo.get_rank() == 0: display(res)"
   ]
  },
  {
   "cell_type": "markdown",
   "metadata": {},
   "source": [
    "## HDF5\n",
    "HDF5 is a common format in scientific computing, especially for multi-dimensional numerical data. HDF5 can be very efficient at scale, since it has native parallel I/O support. Bodo supports the standard h5py APIs:"
   ]
  },
  {
   "cell_type": "code",
   "execution_count": 14,
   "metadata": {},
   "outputs": [
    {
     "data": {
      "text/plain": [
       "[output:0]"
      ]
     },
     "metadata": {},
     "output_type": "display_data"
    },
    {
     "data": {
      "text/plain": [
       "66"
      ]
     },
     "metadata": {
      "engine": 0
     },
     "output_type": "display_data"
    }
   ],
   "source": [
    "%%px --block\n",
    "import h5py\n",
    "\n",
    "@bodo.jit\n",
    "def example_h5():\n",
    "    f = h5py.File(\"data.h5\", \"r\")\n",
    "    return f['A'][:].sum()\n",
    "\n",
    "res = example_h5()\n",
    "if bodo.get_rank() == 0: display(res)"
   ]
  },
  {
   "cell_type": "markdown",
   "metadata": {},
   "source": [
    "## Numpy Binary Files\n",
    "Bodo supports reading and writing binary files using Numpy APIs as well."
   ]
  },
  {
   "cell_type": "code",
   "execution_count": 15,
   "metadata": {},
   "outputs": [
    {
     "data": {
      "text/plain": [
       "[output:0]"
      ]
     },
     "metadata": {},
     "output_type": "display_data"
    },
    {
     "data": {
      "text/plain": [
       "45"
      ]
     },
     "metadata": {
      "engine": 0
     },
     "output_type": "display_data"
    }
   ],
   "source": [
    "%%px --block\n",
    "\n",
    "@bodo.jit\n",
    "def example_np_io():\n",
    "    A = np.fromfile(\"data.dat\", np.int64)\n",
    "    return A.sum()\n",
    "\n",
    "res = example_np_io()\n",
    "if bodo.get_rank() == 0: display(res)"
   ]
  },
  {
   "cell_type": "markdown",
   "metadata": {},
   "source": [
    "# Supported APIs\n",
    "\n",
    "Bodo can automatically parallelize many Python APIs (mostly from Pandas and Numpy)\n",
    "that are commonly used for data analytics. Please visit [docs.bodo.ai](https://docs.bodo.ai) for a complete list.\n",
    "Below are some example categories."
   ]
  },
  {
   "cell_type": "markdown",
   "metadata": {},
   "source": [
    "<img style=\"float: right;\" src=\"img/data-parallel.jpg\">\n",
    "\n",
    "## Data-Parallel Operations\n",
    "Many operations in Numpy and Pandas are fully data-parallel, allowing Bodo to parallelize them across data blocks efficiently without communication between processors.\n",
    "Examples are many of math operators, filtering, combining columns, normlization, dropping rows/columns, etc.\n",
    "\n",
    "Example below drops some rows and columns, and creates a new column by extracting month from the time column."
   ]
  },
  {
   "cell_type": "code",
   "execution_count": 16,
   "metadata": {},
   "outputs": [
    {
     "data": {
      "text/plain": [
       "[output:0]"
      ]
     },
     "metadata": {},
     "output_type": "display_data"
    },
    {
     "data": {
      "text/html": [
       "<div>\n",
       "<style scoped>\n",
       "    .dataframe tbody tr th:only-of-type {\n",
       "        vertical-align: middle;\n",
       "    }\n",
       "\n",
       "    .dataframe tbody tr th {\n",
       "        vertical-align: top;\n",
       "    }\n",
       "\n",
       "    .dataframe thead th {\n",
       "        text-align: right;\n",
       "    }\n",
       "</style>\n",
       "<table border=\"1\" class=\"dataframe\">\n",
       "  <thead>\n",
       "    <tr style=\"text-align: right;\">\n",
       "      <th></th>\n",
       "      <th>Unnamed: 0</th>\n",
       "      <th>altitude</th>\n",
       "      <th>cadence</th>\n",
       "      <th>distance</th>\n",
       "      <th>hr</th>\n",
       "      <th>speed</th>\n",
       "      <th>month</th>\n",
       "    </tr>\n",
       "  </thead>\n",
       "  <tbody>\n",
       "    <tr>\n",
       "      <th>0</th>\n",
       "      <td>0</td>\n",
       "      <td>185.800003</td>\n",
       "      <td>51</td>\n",
       "      <td>3.460000</td>\n",
       "      <td>81</td>\n",
       "      <td>3.459</td>\n",
       "      <td>10</td>\n",
       "    </tr>\n",
       "    <tr>\n",
       "      <th>2</th>\n",
       "      <td>2</td>\n",
       "      <td>186.399994</td>\n",
       "      <td>38</td>\n",
       "      <td>11.040000</td>\n",
       "      <td>82</td>\n",
       "      <td>3.874</td>\n",
       "      <td>10</td>\n",
       "    </tr>\n",
       "    <tr>\n",
       "      <th>3</th>\n",
       "      <td>3</td>\n",
       "      <td>186.800003</td>\n",
       "      <td>38</td>\n",
       "      <td>15.180000</td>\n",
       "      <td>83</td>\n",
       "      <td>4.135</td>\n",
       "      <td>10</td>\n",
       "    </tr>\n",
       "    <tr>\n",
       "      <th>4</th>\n",
       "      <td>4</td>\n",
       "      <td>186.600006</td>\n",
       "      <td>38</td>\n",
       "      <td>19.430000</td>\n",
       "      <td>83</td>\n",
       "      <td>4.250</td>\n",
       "      <td>10</td>\n",
       "    </tr>\n",
       "    <tr>\n",
       "      <th>12</th>\n",
       "      <td>12</td>\n",
       "      <td>186.199997</td>\n",
       "      <td>0</td>\n",
       "      <td>51.610001</td>\n",
       "      <td>80</td>\n",
       "      <td>3.029</td>\n",
       "      <td>10</td>\n",
       "    </tr>\n",
       "  </tbody>\n",
       "</table>\n",
       "</div>"
      ],
      "text/plain": [
       "    Unnamed: 0    altitude  cadence   distance  hr  speed  month\n",
       "0            0  185.800003       51   3.460000  81  3.459     10\n",
       "2            2  186.399994       38  11.040000  82  3.874     10\n",
       "3            3  186.800003       38  15.180000  83  4.135     10\n",
       "4            4  186.600006       38  19.430000  83  4.250     10\n",
       "12          12  186.199997        0  51.610001  80  3.029     10"
      ]
     },
     "metadata": {
      "engine": 0
     },
     "output_type": "display_data"
    }
   ],
   "source": [
    "%%px --block\n",
    "\n",
    "@bodo.jit\n",
    "def data_par():\n",
    "    df = pd.read_parquet('cycling_dataset.pq')\n",
    "    df = df[df.power!=0]\n",
    "    df['month'] = df.time.dt.month\n",
    "    df = df.drop(['latitude', 'longitude', 'power', 'time'], axis=1)\n",
    "    return df.head()\n",
    "\n",
    "res = data_par()\n",
    "if bodo.get_rank() == 0: display(res)"
   ]
  },
  {
   "cell_type": "markdown",
   "metadata": {},
   "source": [
    "<img style=\"float: right;\" src=\"img/reduction.jpg\">\n",
    "\n",
    "## Reduction operations\n",
    "Some operators such as `sum` require reduction operation across all of data, which implies communication across data blocks. Bodo handles these operations using efficient MPI communication, and makes the output available on all processors.\n",
    "\n",
    "The example below computes the mean of the 'power' column."
   ]
  },
  {
   "cell_type": "code",
   "execution_count": 17,
   "metadata": {},
   "outputs": [
    {
     "data": {
      "text/plain": [
       "[output:0]"
      ]
     },
     "metadata": {},
     "output_type": "display_data"
    },
    {
     "data": {
      "text/plain": [
       "102.07842132239877"
      ]
     },
     "metadata": {
      "engine": 0
     },
     "output_type": "display_data"
    }
   ],
   "source": [
    "%%px --block\n",
    "\n",
    "@bodo.jit\n",
    "def mean_power():\n",
    "    df = pd.read_parquet('cycling_dataset.pq')\n",
    "    return df.power.mean()\n",
    "\n",
    "res = mean_power()\n",
    "if bodo.get_rank() == 0: display(res)"
   ]
  },
  {
   "cell_type": "markdown",
   "metadata": {},
   "source": [
    "<img style=\"float: right;\" src=\"img/groupby.jpg\">\n",
    "\n",
    "## GroupBy/Aggregation\n",
    "Grouping operations, which are typically followed by aggregations/reductions, are\n",
    "more challenging for parallel and distributed environments. Bodo uses efficient MPI communication primitives to provide fast and scalable groupby/aggregations.\n",
    "\n",
    "Example below computes the average power output per hour:"
   ]
  },
  {
   "cell_type": "code",
   "execution_count": 18,
   "metadata": {},
   "outputs": [
    {
     "data": {
      "text/plain": [
       "[output:0]"
      ]
     },
     "metadata": {},
     "output_type": "display_data"
    },
    {
     "data": {
      "text/plain": [
       "22    110.625821\n",
       "23     71.754079\n",
       "Name: power, dtype: float64"
      ]
     },
     "metadata": {
      "engine": 0
     },
     "output_type": "display_data"
    }
   ],
   "source": [
    "%%px --block\n",
    "import pandas as pd\n",
    "import numpy as np\n",
    "import bodo\n",
    "\n",
    "@bodo.jit\n",
    "def mean_power_pm():\n",
    "    df = pd.read_parquet('cycling_dataset.pq')\n",
    "    df['hour'] = df.time.dt.hour\n",
    "    grp = df.groupby('hour')\n",
    "    mean_df = grp['power'].mean()\n",
    "    return mean_df.head()\n",
    "\n",
    "res = mean_power_pm()\n",
    "if bodo.get_rank() == 0: display(res)"
   ]
  },
  {
   "cell_type": "markdown",
   "metadata": {},
   "source": [
    "## Join\n",
    "Bodo can also efficiently join dataframes, which uses a communication pattern similar to Groupby.\n",
    "\n",
    "Example below reads data, splits it into two dataframes and re-joins them on time column:"
   ]
  },
  {
   "cell_type": "code",
   "execution_count": 19,
   "metadata": {},
   "outputs": [
    {
     "data": {
      "text/plain": [
       "[output:0]"
      ]
     },
     "metadata": {},
     "output_type": "display_data"
    },
    {
     "data": {
      "text/html": [
       "<div>\n",
       "<style scoped>\n",
       "    .dataframe tbody tr th:only-of-type {\n",
       "        vertical-align: middle;\n",
       "    }\n",
       "\n",
       "    .dataframe tbody tr th {\n",
       "        vertical-align: top;\n",
       "    }\n",
       "\n",
       "    .dataframe thead th {\n",
       "        text-align: right;\n",
       "    }\n",
       "</style>\n",
       "<table border=\"1\" class=\"dataframe\">\n",
       "  <thead>\n",
       "    <tr style=\"text-align: right;\">\n",
       "      <th></th>\n",
       "      <th>altitude</th>\n",
       "      <th>cadence</th>\n",
       "      <th>distance</th>\n",
       "      <th>hr</th>\n",
       "      <th>time</th>\n",
       "      <th>latitude</th>\n",
       "      <th>longitude</th>\n",
       "      <th>power</th>\n",
       "      <th>speed</th>\n",
       "    </tr>\n",
       "  </thead>\n",
       "  <tbody>\n",
       "    <tr>\n",
       "      <th>0</th>\n",
       "      <td>186.600006</td>\n",
       "      <td>0</td>\n",
       "      <td>23.860001</td>\n",
       "      <td>84</td>\n",
       "      <td>2016-10-20 22:01:31</td>\n",
       "      <td>30.313130</td>\n",
       "      <td>-97.732724</td>\n",
       "      <td>0</td>\n",
       "      <td>4.435</td>\n",
       "    </tr>\n",
       "    <tr>\n",
       "      <th>1</th>\n",
       "      <td>186.600006</td>\n",
       "      <td>0</td>\n",
       "      <td>28.350000</td>\n",
       "      <td>84</td>\n",
       "      <td>2016-10-20 22:01:32</td>\n",
       "      <td>30.313093</td>\n",
       "      <td>-97.732723</td>\n",
       "      <td>0</td>\n",
       "      <td>4.490</td>\n",
       "    </tr>\n",
       "    <tr>\n",
       "      <th>2</th>\n",
       "      <td>186.600006</td>\n",
       "      <td>0</td>\n",
       "      <td>32.970001</td>\n",
       "      <td>83</td>\n",
       "      <td>2016-10-20 22:01:33</td>\n",
       "      <td>30.313050</td>\n",
       "      <td>-97.732717</td>\n",
       "      <td>0</td>\n",
       "      <td>4.621</td>\n",
       "    </tr>\n",
       "    <tr>\n",
       "      <th>3</th>\n",
       "      <td>186.600006</td>\n",
       "      <td>0</td>\n",
       "      <td>37.560001</td>\n",
       "      <td>84</td>\n",
       "      <td>2016-10-20 22:01:34</td>\n",
       "      <td>30.313011</td>\n",
       "      <td>-97.732702</td>\n",
       "      <td>0</td>\n",
       "      <td>4.591</td>\n",
       "    </tr>\n",
       "    <tr>\n",
       "      <th>4</th>\n",
       "      <td>186.199997</td>\n",
       "      <td>70</td>\n",
       "      <td>86.339996</td>\n",
       "      <td>88</td>\n",
       "      <td>2016-10-20 22:01:46</td>\n",
       "      <td>30.312580</td>\n",
       "      <td>-97.732621</td>\n",
       "      <td>109</td>\n",
       "      <td>5.553</td>\n",
       "    </tr>\n",
       "  </tbody>\n",
       "</table>\n",
       "</div>"
      ],
      "text/plain": [
       "     altitude  cadence   distance  hr                time   latitude  \\\n",
       "0  186.600006        0  23.860001  84 2016-10-20 22:01:31  30.313130   \n",
       "1  186.600006        0  28.350000  84 2016-10-20 22:01:32  30.313093   \n",
       "2  186.600006        0  32.970001  83 2016-10-20 22:01:33  30.313050   \n",
       "3  186.600006        0  37.560001  84 2016-10-20 22:01:34  30.313011   \n",
       "4  186.199997       70  86.339996  88 2016-10-20 22:01:46  30.312580   \n",
       "\n",
       "   longitude  power  speed  \n",
       "0 -97.732724      0  4.435  \n",
       "1 -97.732723      0  4.490  \n",
       "2 -97.732717      0  4.621  \n",
       "3 -97.732702      0  4.591  \n",
       "4 -97.732621    109  5.553  "
      ]
     },
     "metadata": {
      "engine": 0
     },
     "output_type": "display_data"
    }
   ],
   "source": [
    "%%px --block\n",
    "\n",
    "@bodo.jit\n",
    "def merge_dfs():\n",
    "    df = pd.read_parquet('cycling_dataset.pq')\n",
    "    df1 = df[['altitude', 'cadence', 'distance', 'hr', 'time']]\n",
    "    df2 = df[['latitude', 'longitude', 'power', 'speed', 'time']]\n",
    "    df3 = df1.merge(df2, on='time')\n",
    "    return df3.head()\n",
    "\n",
    "res = merge_dfs()\n",
    "if bodo.get_rank() == 0: display(res)"
   ]
  },
  {
   "cell_type": "markdown",
   "metadata": {},
   "source": [
    "<img style=\"float: right;\" src=\"img/rolling.jpg\">\n",
    "\n",
    "## Sliding Windows\n",
    "Some popular analytics operations, especially for time-series analysis, are based on sliding windows. Examples include moving averages and percentage change. In a distributed setup, these require communication beyond map-reduce (which is the basis of most systems such as Spark). Bodo handles these cases using efficient patterns known from HPC.\n",
    "\n",
    "Example below computes the moving average of the heart-rate:"
   ]
  },
  {
   "cell_type": "code",
   "execution_count": 20,
   "metadata": {},
   "outputs": [
    {
     "data": {
      "text/plain": [
       "[output:0]"
      ]
     },
     "metadata": {},
     "output_type": "display_data"
    },
    {
     "data": {
      "text/plain": [
       "0     NaN\n",
       "1     NaN\n",
       "2     NaN\n",
       "3    82.0\n",
       "4    82.5\n",
       "Name: hr, dtype: float64"
      ]
     },
     "metadata": {
      "engine": 0
     },
     "output_type": "display_data"
    }
   ],
   "source": [
    "%%px --block\n",
    "\n",
    "@bodo.jit\n",
    "def mov_avg():\n",
    "    df = pd.read_parquet('cycling_dataset.pq')\n",
    "    mv_av = df.hr.rolling(4).mean()\n",
    "    return mv_av.head()\n",
    "\n",
    "res = mov_avg()\n",
    "if bodo.get_rank() == 0: display(res)"
   ]
  },
  {
   "cell_type": "markdown",
   "metadata": {},
   "source": [
    "## Explicit Parallel Loops\n",
    "Sometimes explicit parallel loops are required since a program cannot be written in terms of data-parallel operators easily. In this case, one can use Bodo’s `prange` in place of `range` to specify that a loop can be parallelized. The user is required to make sure the loop does not have cross iteration dependencies except for supported reductions.\n",
    "\n",
    "The example below demonstrates a parallel loop with a reduction:"
   ]
  },
  {
   "cell_type": "code",
   "execution_count": 5,
   "metadata": {},
   "outputs": [
    {
     "data": {
      "text/plain": [
       "[output:0]"
      ]
     },
     "metadata": {},
     "output_type": "display_data"
    },
    {
     "data": {
      "text/plain": [
       "4.2617467000957046"
      ]
     },
     "metadata": {
      "engine": 0
     },
     "output_type": "display_data"
    }
   ],
   "source": [
    "%%px --block\n",
    "import bodo\n",
    "from bodo import prange\n",
    "import numpy as np\n",
    "\n",
    "@bodo.jit\n",
    "def prange_test(n):\n",
    "    A = np.random.ranf(n)\n",
    "    s = 0\n",
    "    for i in prange(len(A)):\n",
    "        s += A[i]\n",
    "    return s\n",
    "\n",
    "res = prange_test(10)\n",
    "if bodo.get_rank() == 0: display(res)"
   ]
  },
  {
   "cell_type": "markdown",
   "metadata": {},
   "source": [
    "Currently, reductions using +=, *=, min, and max operators are supported."
   ]
  },
  {
   "cell_type": "markdown",
   "metadata": {},
   "source": [
    "## Troubleshooting\n",
    "Bodo may not be able to compile a function out-of-the-box, usually if there are data types or APIs that Bodo does not support yet. Here are a few recommended steps:\n",
    "1. Make sure the function works in Python without Bodo\n",
    "2. Make sure the data types and APIs are supported by Bodo (see documentation for the list of API)\n",
    "3. Create a minimal reproducer with example data and submit to Bodo support\n"
   ]
  }
 ],
 "metadata": {
  "kernelspec": {
   "display_name": "Python 3",
   "language": "python",
   "name": "python3"
  },
  "language_info": {
   "codemirror_mode": {
    "name": "ipython",
    "version": 3
   },
   "file_extension": ".py",
   "mimetype": "text/x-python",
   "name": "python",
   "nbconvert_exporter": "python",
   "pygments_lexer": "ipython3",
   "version": "3.7.5"
  }
 },
 "nbformat": 4,
 "nbformat_minor": 2
}
